{
 "cells": [
  {
   "cell_type": "markdown",
   "metadata": {},
   "source": [
    "### ASSIST tests: Apophis"
   ]
  },
  {
   "cell_type": "markdown",
   "metadata": {},
   "source": [
    "Here we use ASSIST to carry out an integration of the orbit of the interstellar object Oumuamua and compare the resluts with those of the JPL Horizons system. \n",
    "\n",
    "We include the non-gravitational forces as reported."
   ]
  },
  {
   "cell_type": "code",
   "execution_count": 1,
   "metadata": {},
   "outputs": [],
   "source": [
    "import numpy as np\n",
    "import matplotlib\n",
    "import matplotlib.pyplot as plt\n",
    "%matplotlib inline\n",
    "import math\n",
    "import ctypes\n",
    "import importlib\n",
    "\n",
    "import spiceypy as spice\n",
    "\n",
    "import pkg_resources\n",
    "import sys\n",
    "sys.path.append(r'/Users/mholman/assist')\n",
    "import assist\n",
    "\n",
    "jd_ref = spice.j2000()\n",
    "\n",
    "plt.rc('text', usetex = True)\n"
   ]
  },
  {
   "cell_type": "code",
   "execution_count": 3,
   "metadata": {},
   "outputs": [],
   "source": [
    "# Here are setting up the integration of Apophis from 2029 Jan 1 to 2030 Jan 1.  There is a very\n",
    "# close encounter between the asteroid and the Earth on 2029 April 13.  This is a significant\n",
    "# stress test for the integrator, one that we fail!\n",
    "\n",
    "# Davide's email: Apophis heliocentric state (km, km/sec)\n",
    "apophis_davide = np.array([-8.1542363951087192E+07, 1.2904139592677031E+08, 4.5894255749981791E+07,\n",
    "                           -2.4167584904236399E+01, -1.0027783141840974E+01, -4.3343221001451306E+00])\n",
    "\n",
    "# Convert to AU and AU/day\n",
    "au = 1.495978707e+08\n",
    "day = 24*3600.\n",
    "\n",
    "apophis_davide[0:3] = apophis_davide[0:3]/au\n",
    "apophis_davide[3:6] = apophis_davide[3:6]*day/au\n",
    "\n",
    "# Convert to barycentric\n",
    "\n",
    "GMsun, sun = assist.all_ephem(0, jd_ref, 2462137.5-jd_ref)\n",
    "apophis_davide = apophis_davide + sun[0:6]\n",
    "\n",
    "davide_end = np.array([3.6363608866809485E+06, 1.8237263291973537E+08, 7.1543155513210312E+07,\n",
    "                       -2.3434769151826927E+01, 1.0706266853019808E+00, 2.9804565046315526E-02])\n",
    "#davide_end = davide_end/au\n",
    "\n",
    "davide_quad = np.array([3.6363612965853503E+06, 1.8237263299836367E+08, 7.1543155513458297E+07])\n",
    "davide_end[0:3] = davide_end[0:3]/au\n",
    "davide_end[3:6] = davide_end[3:6]*day/au\n",
    "\n",
    "# Convert to barycentric\n",
    "\n",
    "GMsun, sun = assist.all_ephem(0, jd_ref, 2462502.5-jd_ref)\n",
    "davide_end = davide_end + sun[0:6]\n"
   ]
  },
  {
   "cell_type": "code",
   "execution_count": 5,
   "metadata": {},
   "outputs": [],
   "source": [
    "apophis_davide = np.array([-4.0985308396619768E-01, 9.0701988670897504E-01, 3.2679194720961291E-01, -1.5075524121278910E-02, -3.7135599257017366E-03, -1.7618679887745228E-03])\n",
    "GMsun, sun = assist.all_ephem(0, jd_ref, 2459215.5-jd_ref)\n",
    "apophis_davide = apophis_davide + sun[0:6]"
   ]
  },
  {
   "cell_type": "code",
   "execution_count": 19,
   "metadata": {},
   "outputs": [
    {
     "data": {
      "text/plain": [
       "365.0"
      ]
     },
     "execution_count": 19,
     "metadata": {},
     "output_type": "execute_result"
    }
   ],
   "source": [
    "(2462502.5-2462137.5)"
   ]
  },
  {
   "cell_type": "code",
   "execution_count": 4,
   "metadata": {},
   "outputs": [],
   "source": [
    "# For these integrations, we have turned off solar J2 and Earth J3 and J4.  We keep full\n",
    "# EIH GR and all perturbers.  Initially the perturbers are in ephemeris order.\n",
    "tstart, tstep, trange = 2459215.5-jd_ref, 20.0, 0.0\n",
    "\n",
    "tstart, tstep, trange = 2462137.5-jd_ref, 20.0, (2462502.5-2462137.5)\n",
    "\n",
    "epoch = tstart\n",
    "tend = tstart + trange\n",
    "\n",
    "delta = 0e-16\n",
    "instates = apophis_davide.copy()\n",
    "instates[2] += delta\n",
    "\n",
    "#n_var = 6\n",
    "n_var = 0\n",
    "#n_particles = 7\n",
    "n_particles = 1\n",
    "geocentric = 0\n",
    "\n",
    "#invar_part = np.zeros(6, dtype=int)\n",
    "invar_part = None\n",
    "#invar = np.identity(6)\n",
    "invar = None\n",
    "\n",
    "scale = 1e-8\n",
    "#instatesp = np.array([row]*6)+scale*invar\n",
    "#instates=np.vstack([instates, instatesp])\n",
    "\n",
    "# Turn off the non-grav terms\n",
    "part_params = None\n",
    "part_params = np.array([4.999999873689E-13, -2.901085508711E-14, 0.])\n",
    "part_params = np.array([5.E-13, -2.901085583204654E-14, 0.0])\n",
    "\n",
    "var_part_params = None\n",
    "\n",
    "nsubsteps = 10\n",
    "hg = np.arange(0, 1.1, 0.1, dtype=np.double)\n",
    "\n",
    "times, states, var, var_ng, status = assist.integration_function(tstart, tend, tstep, geocentric, \n",
    "                                                                n_particles, instates, part_params, n_var, invar_part, invar, var_part_params, hg,\n",
    "                                                                nsubsteps=nsubsteps, \n",
    "                                                                epsilon=1e-8, min_dt=0.0001)"
   ]
  },
  {
   "cell_type": "code",
   "execution_count": 5,
   "metadata": {},
   "outputs": [
    {
     "data": {
      "text/plain": [
       "array([-1643.73412973,  -295.3433222 ,  -176.35851448,    -3.22039455,\n",
       "         -16.33853032,    -6.6243652 ])"
      ]
     },
     "execution_count": 5,
     "metadata": {},
     "output_type": "execute_result"
    }
   ],
   "source": [
    "(states[-1][0]-davide_end)*1.5e8"
   ]
  },
  {
   "cell_type": "code",
   "execution_count": 9,
   "metadata": {},
   "outputs": [
    {
     "data": {
      "text/plain": [
       "array([-3529.51754393,  -576.72121722, -1077.80881969])"
      ]
     },
     "execution_count": 9,
     "metadata": {},
     "output_type": "execute_result"
    }
   ],
   "source": [
    "jpl_apophis_start = np.array([-5.438438272487275E-01, 8.613083849766898E-01, 3.062632838449565E-01,\n",
    "                                  -1.395835707852086E-02, -5.786710318140503E-03, -2.501201213363947E-03])\n",
    "jpl_apophis_end = np.array([2.487313278602400E-02,  1.219360347406856E+00, 4.784027483997944E-01,\n",
    "         -1.353775762820969E-02, 6.220289094212166E-04, 1.888305072804014E-05])\n",
    "\n",
    "# For these integrations, we have turned off solar J2 and Earth J3 and J4.  We keep full\n",
    "# EIH GR and all perturbers.  Initially the perturbers are in ephemeris order.\n",
    "tstart, tstep, trange = 2462137.500000000-jd_ref, 20.0, (2462502.5-2462137.5)\n",
    "\n",
    "epoch = tstart\n",
    "tend = tstart + trange\n",
    "\n",
    "delta = 0e-16\n",
    "instates = jpl_apophis_start.copy()\n",
    "instates[0] += delta\n",
    "\n",
    "#n_var = 6\n",
    "n_var = 0\n",
    "#n_particles = 7\n",
    "n_particles = 1\n",
    "geocentric = 0\n",
    "\n",
    "#invar_part = np.zeros(6, dtype=int)\n",
    "invar_part = None\n",
    "#invar = np.identity(6)\n",
    "invar = None\n",
    "\n",
    "scale = 1e-8\n",
    "#instatesp = np.array([row]*6)+scale*invar\n",
    "#instates=np.vstack([instates, instatesp])\n",
    "\n",
    "#  AMRAT=  0.                                                                  \n",
    "#  A1= 4.999999873689E-13  A2= -2.901085508711E-14 A3= 0.                      \n",
    "# Non-standard or simulated/proxy model:                                        \n",
    "#   ALN=  1.            NK=  0.       NM=  2.       NN=  5.093    R0=  1.      \n",
    "\n",
    "# Turn off the non-grav terms\n",
    "part_params = None\n",
    "#part_params = np.array([4.999999873689E-13, -2.901085508711E-14, 0.])\n",
    "A1, A2, A3 = 4.999999873689E-13, -2.901085508711E-14, 0.0\n",
    "#A1, A2, A3 = 0.0, -5.592839897872E-14, 0.0\n",
    "part_params = np.array([A1, A2, A3])\n",
    "\n",
    "var_part_params = None\n",
    "\n",
    "nsubsteps = 10\n",
    "hg = np.arange(0, 1.1, 0.1, dtype=np.double)\n",
    "\n",
    "times, states, var, var_ng, status = assist.integration_function(tstart, tend, tstep, geocentric, \n",
    "                                                                n_particles, instates, part_params, n_var, invar_part, invar, var_part_params, hg,\n",
    "                                                                nsubsteps=nsubsteps, \n",
    "                                                                epsilon=1e-8, min_dt=0.01)\n",
    "\n",
    "#(states[-1][0]-prev)[0:3]*1.5e11\n",
    "(states[-1][0]-jpl_apophis_end)[0:3]*1.5e8\n"
   ]
  },
  {
   "cell_type": "code",
   "execution_count": 10,
   "metadata": {},
   "outputs": [],
   "source": [
    "earth_pos=[]\n",
    "for t in times:\n",
    "    GMearth, earth = assist.all_ephem(3, jd_ref, t)\n",
    "    earth_pos.append(earth)\n",
    "\n",
    "earth_pos = np.array(earth_pos)"
   ]
  },
  {
   "cell_type": "code",
   "execution_count": 11,
   "metadata": {},
   "outputs": [
    {
     "data": {
      "image/png": "[encoded data removed]",
      "text/plain": [
       "<Figure size 640x480 with 1 Axes>"
      ]
     },
     "metadata": {},
     "output_type": "display_data"
    }
   ],
   "source": [
    "plt.scatter(states[:,0,0], states[:,0,1], s=0.1)\n",
    "plt.scatter(earth_pos[:,0], earth_pos[:,1], s=0.1, c='red')\n",
    "#plt.xlim(-1.2, -0.5)\n",
    "#plt.ylim(-0.6, -0.2)\n",
    "plt.axis('square')\n",
    "plt.title('Apophis close approach (2029 April 13)')\n",
    "plt.xlabel('heliocentric x (AU)')\n",
    "plt.ylabel('heliocentric y (AU)')\n",
    "plt.savefig('apophis_earth.pdf')"
   ]
  },
  {
   "cell_type": "code",
   "execution_count": 17,
   "metadata": {},
   "outputs": [],
   "source": [
    "# This routine is integrating a pair of trajectories, one of Apophis and another of a slightly\n",
    "# perturbed (in the x coordinate) Apophis, for a time t from 2029 Jan 1.  The magnitude of the\n",
    "# difference of the positions of the two trajectories at the end of the integration is \n",
    "# returned.  The point is to be able to study the difference as the trajectories approach\n",
    "# and pass through close encounters with the Earth.\n",
    "\n",
    "def perturbed_apophis(t):\n",
    "    # For these integrations, we have turned off solar J2 and Earth J3 and J4.  We keep full\n",
    "    # EIH GR and all perturbers.  Initially the perturbers are in ephemeris order.\n",
    "\n",
    "    tstart, tstep, trange = 2462137.500000000-jd_ref, 20.0, t\n",
    "\n",
    "    epoch = tstart\n",
    "    tend = tstart + trange\n",
    "\n",
    "    delta = 0e-16\n",
    "    instates = jpl_apophis_start.copy()\n",
    "    instates[0] += delta\n",
    "\n",
    "    n_var = 0\n",
    "    n_particles = 1\n",
    "    geocentric = 0\n",
    "\n",
    "    invar_part = None\n",
    "    invar = None\n",
    "\n",
    "    scale = 1e-8\n",
    "\n",
    "    # Turn off the non-grav terms\n",
    "    part_params = None\n",
    "\n",
    "    var_part_params = None\n",
    "\n",
    "    nsubsteps = 10\n",
    "    hg = np.arange(0, 1.1, 0.1, dtype=np.double)\n",
    "\n",
    "    times, states, var, var_ng, status = assist.integration_function(tstart, tend, tstep, geocentric, \n",
    "                                                                    n_particles, instates, part_params, n_var, invar_part, invar, var_part_params, hg,\n",
    "                                                                    nsubsteps=nsubsteps, \n",
    "                                                                    epsilon=1e-9, min_dt=0.001)\n",
    "    \n",
    "    delta = 1e-15\n",
    "    instates = jpl_apophis_start.copy()\n",
    "    instates[0] += delta\n",
    "\n",
    "    n_var = 0\n",
    "    n_particles = 1\n",
    "    geocentric = 0\n",
    "\n",
    "    invar_part = None\n",
    "    invar = None\n",
    "\n",
    "    scale = 1e-8\n",
    "\n",
    "    # Turn off the non-grav terms\n",
    "    part_params = None\n",
    "\n",
    "    var_part_params = None\n",
    "\n",
    "    nsubsteps = 10\n",
    "    hg = np.arange(0, 1.1, 0.1, dtype=np.double)\n",
    "\n",
    "    times2, states2, var, var_ng, status = assist.integration_function(tstart, tend, tstep, geocentric, \n",
    "                                                                    n_particles, instates, part_params, n_var, invar_part, invar, var_part_params, hg,\n",
    "                                                                    nsubsteps=nsubsteps, \n",
    "                                                                    epsilon=1e-9, min_dt=0.001)\n",
    "\n",
    "    return np.linalg.norm((states2[-1][0]-states[-1][0])[0:3])*1.5e11\n"
   ]
  },
  {
   "cell_type": "code",
   "execution_count": 18,
   "metadata": {},
   "outputs": [
    {
     "name": "stdout",
     "output_type": "stream",
     "text": [
      "1.0\n",
      "2.0\n",
      "3.0\n",
      "4.0\n",
      "5.0\n",
      "6.0\n",
      "7.0\n",
      "8.0\n",
      "9.0\n",
      "10.0\n",
      "11.0\n",
      "12.0\n",
      "13.0\n",
      "14.0\n",
      "15.0\n",
      "16.0\n",
      "17.0\n",
      "18.0\n",
      "19.0\n",
      "20.0\n",
      "21.0\n",
      "22.0\n",
      "23.0\n",
      "24.0\n",
      "25.0\n",
      "26.0\n",
      "27.0\n",
      "28.0\n",
      "29.0\n",
      "30.0\n",
      "31.0\n",
      "32.0\n",
      "33.0\n",
      "34.0\n",
      "35.0\n",
      "36.0\n",
      "37.0\n",
      "38.0\n",
      "39.0\n",
      "40.0\n",
      "41.0\n",
      "42.0\n",
      "43.0\n",
      "44.0\n",
      "45.0\n",
      "46.0\n",
      "47.0\n",
      "48.0\n",
      "49.0\n",
      "50.0\n",
      "51.0\n",
      "52.0\n",
      "53.0\n",
      "54.0\n",
      "55.0\n",
      "56.0\n",
      "57.0\n",
      "58.0\n",
      "59.0\n",
      "60.0\n",
      "61.0\n",
      "62.0\n",
      "63.0\n",
      "64.0\n",
      "65.0\n",
      "66.0\n",
      "67.0\n",
      "68.0\n",
      "69.0\n",
      "70.0\n",
      "71.0\n",
      "72.0\n",
      "73.0\n",
      "74.0\n",
      "75.0\n",
      "76.0\n",
      "77.0\n",
      "78.0\n",
      "79.0\n",
      "80.0\n",
      "81.0\n",
      "82.0\n",
      "83.0\n",
      "84.0\n",
      "85.0\n",
      "86.0\n",
      "87.0\n",
      "88.0\n",
      "89.0\n",
      "90.0\n",
      "91.0\n",
      "92.0\n",
      "93.0\n",
      "94.0\n",
      "95.0\n",
      "96.0\n",
      "97.0\n",
      "98.0\n",
      "99.0\n",
      "100.0\n",
      "101.0\n",
      "102.0\n",
      "103.0\n",
      "104.0\n",
      "105.0\n",
      "106.0\n",
      "107.0\n",
      "108.0\n",
      "109.0\n"
     ]
    }
   ],
   "source": [
    "# Compute the divergence of the trajectories for a range of times.\n",
    "ts = []\n",
    "dxs = []\n",
    "for t in np.arange(1, 110, 1.):\n",
    "    print(t)\n",
    "    ts.append(t)\n",
    "    dxs.append(perturbed_apophis(t))"
   ]
  },
  {
   "cell_type": "code",
   "execution_count": 14,
   "metadata": {},
   "outputs": [],
   "source": [
    "plt.rcParams['figure.figsize'] = (6, 6)"
   ]
  },
  {
   "cell_type": "code",
   "execution_count": 19,
   "metadata": {},
   "outputs": [],
   "source": [
    "ts = np.array(ts)\n",
    "dxs = np.array(dxs)"
   ]
  },
  {
   "cell_type": "code",
   "execution_count": 20,
   "metadata": {},
   "outputs": [
    {
     "data": {
      "text/plain": [
       "Text(0, 0.5, 'divergence (m)')"
      ]
     },
     "execution_count": 20,
     "metadata": {},
     "output_type": "execute_result"
    },
    {
     "data": {
      "image/png": "[encoded data removed]",
      "text/plain": [
       "<Figure size 600x600 with 1 Axes>"
      ]
     },
     "metadata": {},
     "output_type": "display_data"
    }
   ],
   "source": [
    "plt.scatter(ts, dxs, s=2)\n",
    "plt.yscale('log')\n",
    "plt.title('Apophis Close Approach')\n",
    "plt.xlabel('time from 2029 Jan 1 (days)')\n",
    "plt.ylabel('divergence (m)')\n",
    "#plt.savefig('apophis_divergence.pdf')"
   ]
  },
  {
   "cell_type": "code",
   "execution_count": 24,
   "metadata": {},
   "outputs": [
    {
     "data": {
      "text/plain": [
       "(0.0, 110.0)"
      ]
     },
     "execution_count": 24,
     "metadata": {},
     "output_type": "execute_result"
    },
    {
     "data": {
      "image/png": "[encoded data removed]",
      "text/plain": [
       "<Figure size 600x600 with 1 Axes>"
      ]
     },
     "metadata": {},
     "output_type": "display_data"
    }
   ],
   "source": [
    "# This figure shows two close approaches.  The\n",
    "# first is near day 30.  The second, deeper encounter\n",
    "# is near day 100.\n",
    "\n",
    "t=(times-times[0])[::8]\n",
    "dt=t[1:]-t[:-1]\n",
    "\n",
    "plt.plot(t[:-1], dt)\n",
    "plt.title('Apophis Integration Step Size')\n",
    "plt.xlabel(\"time from 2029 Jan 1 (days)\")\n",
    "plt.ylabel(\"step-size (days)\")\n",
    "plt.yscale('log')\n",
    "plt.xlim(0,110)\n",
    "#plt.savefig('apophis_step_size.pdf')\n",
    "#plt.xlim(0,110)"
   ]
  },
  {
   "cell_type": "code",
   "execution_count": null,
   "metadata": {},
   "outputs": [],
   "source": []
  }
 ],
 "metadata": {
  "anaconda-cloud": {},
  "kernelspec": {
   "display_name": "Python 3 (ipykernel)",
   "language": "python",
   "name": "python3"
  },
  "language_info": {
   "codemirror_mode": {
    "name": "ipython",
    "version": 3
   },
   "file_extension": ".py",
   "mimetype": "text/x-python",
   "name": "python",
   "nbconvert_exporter": "python",
   "pygments_lexer": "ipython3",
   "version": "3.10.5"
  }
 },
 "nbformat": 4,
 "nbformat_minor": 1
}
