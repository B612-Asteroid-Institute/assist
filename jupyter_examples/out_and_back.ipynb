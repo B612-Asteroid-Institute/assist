{
 "cells": [
  {
   "cell_type": "markdown",
   "metadata": {},
   "source": [
    "### ASSIST tests: Out-and-back integrations"
   ]
  },
  {
   "cell_type": "markdown",
   "metadata": {},
   "source": [
    "Here we use ASSIST to carry out a series of out-and-back integrations of the orbit of the main belt asteroid (3666) Holman and the NEO Apophis."
   ]
  },
  {
   "cell_type": "code",
   "execution_count": 1,
   "metadata": {},
   "outputs": [],
   "source": [
    "import numpy as np\n",
    "import matplotlib\n",
    "import matplotlib.pyplot as plt\n",
    "%matplotlib inline\n",
    "import math\n",
    "import ctypes\n",
    "import importlib\n",
    "\n",
    "import spiceypy as spice\n",
    "\n",
    "import pkg_resources\n",
    "import sys\n",
    "sys.path.append(r'/Users/mholman/assist')\n",
    "import assist\n",
    "\n",
    "jd_ref = spice.j2000()\n",
    "\n",
    "plt.rc('text', usetex = True)\n"
   ]
  },
  {
   "cell_type": "code",
   "execution_count": 2,
   "metadata": {},
   "outputs": [],
   "source": [
    "# This cell defines the initial conditions we have used for the term-by-term comparison with Davide's\n",
    "# version of JPL's code.\n",
    "# The dynamical state available on Horizons now will be slightly different because additional\n",
    "# observations have been incorporated into the orbital solution.\n",
    "#\n",
    "# DE441\n",
    "# (3666) Holman\n",
    "#2458849.500000000 = A.D. 2020-Jan-01 00:00:00.0000 TDB [del_T=     69.183900 s]\n",
    "# X = 3.338875350265349E+00 Y =-9.176518267602161E-01 Z =-5.038590677470149E-01\n",
    "# VX= 2.805663315227095E-03 VY= 7.550408688437705E-03 VZ= 2.980028207454247E-03\n",
    "\n",
    "# We had used slightly different initial conditions for the term-by-term comparison with\n",
    "# Davide's code.\n",
    "\n",
    "#row = [3.338875348598862E+00, -9.176518412197102E-01, -5.038590741719294E-01,\n",
    "#     2.805663364339457E-03, 7.550408665778840E-03, 2.980028207875623E-03]\n",
    "# From email with Davide\n",
    "row = [3.3388753502614090e+00, -9.1765182678903168e-01, -5.0385906775843303e-01,\n",
    "     2.8056633153049852e-03,  7.5504086883996860e-03,  2.9800282074358684e-03]"
   ]
  },
  {
   "cell_type": "code",
   "execution_count": 3,
   "metadata": {},
   "outputs": [],
   "source": [
    "# Here we are integrating out and back and then comparing to the initial conditions.  A perfect\n",
    "# (or reversible) integration would exactly reproduce the initial conditions.   IAS15\n",
    "# is not reversible, so this is a good test.\n",
    "\n",
    "# We output both GR calculations for this comparison, but we only accumulate one of them.\n",
    "\n",
    "# Full GR\n",
    "# direct n-body accelerations, computed in ephemeris order.\n",
    "# Earth J2, J3, and J4\n",
    "# Solar J2\n",
    "\n",
    "# We are turning off the term-by-term output to speed up the run.\n",
    "\n",
    "tstart, tstep, trange = 2458849.5-jd_ref, 20.0, 1000\n",
    "\n",
    "instates = np.array([row])\n",
    "\n",
    "def round_trip(instates, tstart, tstep, trange):\n",
    "    states = None\n",
    "    epoch = tstart\n",
    "    tend = tstart + trange\n",
    "    n_particles = 1\n",
    "\n",
    "    part_params = None\n",
    "    #part_params = np.array([[2.790193367004E-7, 1.441264152527E-8, 1.573922634125E-8]])\n",
    "    #part_params = np.array([[0.0, 1e-10, 0.0],[0.0, 2e-10, 0.0]])\n",
    "    #part_params = np.array([[0.0, 0.0, 1e-10],[0.0, 0.0, 2e-10]])\n",
    "    geocentric = 0\n",
    "\n",
    "    n_var = 1\n",
    "\n",
    "    invar_part = np.zeros(0, dtype=int)\n",
    "    invar = np.zeros((1, 6))\n",
    "    #var_part_params = np.array([1., 1., 1.])\n",
    "    var_part_params = None\n",
    "    #var_part_params = np.array([0., 1., 0.])\n",
    "    #var_part_params = np.array([0., 0., 1.])\n",
    "\n",
    "    nsubsteps = 10\n",
    "    hg = np.arange(0, 1.1, 0.1, dtype=np.double)\n",
    "\n",
    "    times, states, var, var_ng, status = assist.integration_function(tstart, tend, tstep, geocentric, \n",
    "                                                                       n_particles, instates, part_params, n_var, invar_part, invar, var_part_params, hg,\n",
    "                                                                       nsubsteps=nsubsteps)\n",
    "    \n",
    "    tstart, tstep, trange = tstart+trange, -tstep, -trange\n",
    "\n",
    "    epoch = tstart\n",
    "    tend = tstart + trange\n",
    "\n",
    "    instates = states[-1].copy()\n",
    "    n_particles = 1\n",
    "\n",
    "    invar_part = np.zeros(0, dtype=int)\n",
    "    invar = np.zeros((1, 6))\n",
    "    var_part_params = np.array([1., 0., 0.])\n",
    "    var_part_params = None\n",
    "    \n",
    "    del times\n",
    "    del states\n",
    "\n",
    "    times, states, var, var_ng, status = assist.integration_function(tstart, tend, tstep, geocentric, \n",
    "                                                                           n_particles, instates, part_params, n_var, invar_part, invar, var_part_params, hg,\n",
    "                                                                           nsubsteps=nsubsteps)\n",
    "    \n",
    "    return states[-1]\n",
    "\n",
    "\n",
    "#(states[:,1,:]-states[:,0,:])[-1]-(var*1e-10)[-1]"
   ]
  },
  {
   "cell_type": "code",
   "execution_count": 4,
   "metadata": {},
   "outputs": [
    {
     "name": "stdout",
     "output_type": "stream",
     "text": [
      "1.0\n",
      "1.8329807108324359\n",
      "3.3598182862837818\n",
      "6.158482110660264\n",
      "11.28837891684689\n",
      "20.69138081114789\n",
      "37.926901907322495\n",
      "69.51927961775606\n",
      "127.42749857031335\n",
      "233.57214690901213\n",
      "428.1332398719391\n",
      "784.7599703514607\n",
      "1438.449888287663\n",
      "2636.650898730358\n",
      "4832.930238571752\n",
      "8858.667904100823\n",
      "16237.76739188721\n",
      "29763.51441631319\n",
      "54555.947811685146\n",
      "100000.0\n"
     ]
    }
   ],
   "source": [
    "# This is collecting the data for the round trip integration error analysis.  For\n",
    "# a range of integration intervals, we determine the difference between the initial\n",
    "# position and the final position after integrating out and back.  This particular\n",
    "# experiment is for asteroid Holman with the standard initial conditions.\n",
    "\n",
    "tstart, tstep = 2458849.5-jd_ref, 20.0\n",
    "\n",
    "instates = np.array([row])\n",
    "\n",
    "results=[]\n",
    "for trange in np.logspace(0, 5, num=20):\n",
    "    print(trange)\n",
    "    results.append((trange, (round_trip(instates, tstart, tstep, trange)-instates)*1.5e8))"
   ]
  },
  {
   "cell_type": "code",
   "execution_count": 5,
   "metadata": {},
   "outputs": [],
   "source": [
    "t = list(map(lambda x: x[0], results))\n",
    "dx = list(map(lambda x: np.linalg.norm(x[1][0][0:3]), results))\n",
    "\n",
    "t = np.array(t)"
   ]
  },
  {
   "cell_type": "code",
   "execution_count": 7,
   "metadata": {},
   "outputs": [
    {
     "data": {
      "image/png": "[encoded data removed]",
      "text/plain": [
       "<Figure size 640x480 with 1 Axes>"
      ]
     },
     "metadata": {},
     "output_type": "display_data"
    }
   ],
   "source": [
    "plt.scatter(t[:], dx[:], s=1)\n",
    "\n",
    "plt.yscale('log')\n",
    "plt.xscale('log')\n",
    "plt.xlabel('outgoing time (days)')\n",
    "plt.ylabel('error (km)')\n",
    "plt.title('cumulative round trip error')\n",
    "plt.plot((1e1,1e5), (1e-7,1e-1))\n",
    "plt.savefig('roundtrip_Holman.pdf')"
   ]
  },
  {
   "cell_type": "code",
   "execution_count": null,
   "metadata": {},
   "outputs": [],
   "source": []
  }
 ],
 "metadata": {
  "anaconda-cloud": {},
  "kernelspec": {
   "display_name": "Python 3 (ipykernel)",
   "language": "python",
   "name": "python3"
  },
  "language_info": {
   "codemirror_mode": {
    "name": "ipython",
    "version": 3
   },
   "file_extension": ".py",
   "mimetype": "text/x-python",
   "name": "python",
   "nbconvert_exporter": "python",
   "pygments_lexer": "ipython3",
   "version": "3.10.5"
  }
 },
 "nbformat": 4,
 "nbformat_minor": 1
}
