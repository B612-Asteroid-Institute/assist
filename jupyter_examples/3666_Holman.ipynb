{
 "cells": [
  {
   "cell_type": "markdown",
   "metadata": {},
   "source": [
    "### ASSIST tests: (3666) Holman integrations"
   ]
  },
  {
   "cell_type": "markdown",
   "metadata": {},
   "source": [
    "Here we demonstrate the integration of (3666) Holman, a main belt asteroid,using ASSIST.  \n",
    "\n",
    "ASSIST is a set of python-wrapped C functions that implement an ephemeris quality-integrator that have been compiled into a library.  That library is imported with the assist.py package.\n",
    "\n",
    "The primary function in assist.py is 'integration_function', which integrates massless test particles in the field of the Sun, planets, Moon, and 16 massive asteroids.  It also includes the J2, J3, and J4 gravitational harmonics of the Earth, the J2 gravitational harmonic of the Sun, and the solar GR terms (using the PPN formulation).  \n",
    "\n",
    "The positions of the massive bodies come from two binary files, both from JPL.  The first is for the Sun, planets, and Moon, with the latest DE441 ephemeris. The other is for the asteroids, corresponding to DE441.  \n",
    "\n",
    "The coordinate frame and units are not flexible, currently.  The coordinate frame is the equatorial ICRF, which is the native coordinate system for the JPL binary files.  Note that this is equatorial rather than ecliptic.  In addition, the native coordinates are barycentric, rather than heliocentric. \n",
    "\n",
    "For units we use solar masses, au, and days.  The independent time coordinate is TDB in Julian days.\n",
    "\n",
    "The underlying numerical integrator is IAS15 (Rein & Liu 2015), a 15th order predictor-corrector integrator with an adaptive step-size.  Each time step involves eight sub-steps.  We have modified the integrator to output the state at each of the sub-steps in order to support interpolation of the output."
   ]
  },
  {
   "cell_type": "code",
   "execution_count": 1,
   "metadata": {},
   "outputs": [],
   "source": [
    "import numpy as np\n",
    "import matplotlib\n",
    "import matplotlib.pyplot as plt\n",
    "%matplotlib inline\n",
    "import math\n",
    "import ctypes\n",
    "import importlib\n",
    "\n",
    "import spiceypy as spice\n",
    "\n",
    "import pkg_resources\n",
    "import sys\n",
    "sys.path.append(r'/Users/mholman/assist')\n",
    "import assist\n",
    "\n",
    "jd_ref = spice.j2000()\n",
    "\n",
    "plt.rc('text', usetex = True)\n"
   ]
  },
  {
   "cell_type": "code",
   "execution_count": 2,
   "metadata": {},
   "outputs": [],
   "source": [
    "# This cell defines the initial conditions we have used for these integrations.\n",
    "# The dynamical state currently available on Horizons might be slightly different because additional\n",
    "# observations have been incorporated into the orbital solution.\n",
    "#\n",
    "# DE441\n",
    "# (3666) Holman\n",
    "#2458849.500000000 = A.D. 2020-Jan-01 00:00:00.0000 TDB \n",
    "# X = 3.338875348598862E+00 Y =-9.176518412197102E-01 Z =-5.038590741719294E-01\n",
    "# VX= 2.805663364339457E-03 VY= 7.550408665778840E-03 VZ= 2.980028207875623E-03\n",
    "#2462849.500000000 = A.D. 2030-Dec-14 00:00:00.0000 TDB \n",
    "# X = 3.287867245553203E+00 Y =-1.075171455363796E+00 Z =-5.664021426672327E-01\n",
    "# VX= 3.227198372064414E-03 VY= 7.408635046202383E-03 VZ= 2.906054311703741E-03\n",
    "#2468849.500000000 = A.D. 2047-May-19 00:00:00.0000 TDB \n",
    "# X = 3.170610610945097E+00 Y =-1.304064500601741E+00 Z =-6.557861417282043E-01\n",
    "# VX= 3.883515574204547E-03 VY= 7.175467701329115E-03 VZ= 2.785507382807673E-03\n",
    "\n",
    "row = [3.338875348598862E+00, -9.176518412197102E-01, -5.038590741719294E-01,\n",
    "     2.805663364339457E-03, 7.550408665778840E-03, 2.980028207875623E-03]"
   ]
  },
  {
   "cell_type": "markdown",
   "metadata": {},
   "source": [
    "duration (d) time (s)\n",
    "1e1 0.0307\n",
    "1e2 0.0458\n",
    "1e3 0.273\n",
    "1e4 2.53\n",
    "1e5 29.2\n",
    "1e6 288\n",
    "\n",
    "\n",
    "Holman\n",
    "     10 d:      0.016\n",
    "    100 d:      0.015\n",
    "   1000 d:      0.019\n",
    "  10000 d:      0.050\n",
    " 100000 d:      0.345\n",
    "1000000 d:      3.326"
   ]
  },
  {
   "cell_type": "code",
   "execution_count": 3,
   "metadata": {},
   "outputs": [
    {
     "name": "stdout",
     "output_type": "stream",
     "text": [
      "CPU times: user 2.41 s, sys: 142 ms, total: 2.55 s\n",
      "Wall time: 2.55 s\n"
     ]
    }
   ],
   "source": [
    "%%time\n",
    "tstart, tstep, trange = 2458849.5-jd_ref, 20.0, 10000\n",
    "\n",
    "epoch = tstart\n",
    "tend = tstart + trange\n",
    "\n",
    "instates = np.array([row])\n",
    "n_var = 6\n",
    "n_particles = 7\n",
    "geocentric = 0\n",
    "\n",
    "\n",
    "invar_part = np.zeros(6, dtype=int)\n",
    "invar = np.identity(6)\n",
    "\n",
    "scale = 1e-8\n",
    "instatesp = np.array([row]*6)+scale*invar\n",
    "instates=np.vstack([instates, instatesp])\n",
    "\n",
    "# Turn off the non-grav terms\n",
    "part_params = None\n",
    "var_part_params = None\n",
    "\n",
    "nsubsteps = 10\n",
    "hg = np.arange(0, 1.1, 0.1, dtype=np.double)\n",
    "\n",
    "times, states, var, var_ng, status = assist.integration_function(tstart, tend, tstep, geocentric, \n",
    "                                                                       n_particles, instates, part_params, n_var, invar_part, invar, var_part_params, hg,\n",
    "                                                                       nsubsteps=nsubsteps)"
   ]
  },
  {
   "cell_type": "code",
   "execution_count": 4,
   "metadata": {},
   "outputs": [
    {
     "data": {
      "text/plain": [
       "array([ 3.17061063e+00, -1.30406446e+00, -6.55786127e-01,  3.88351546e-03,\n",
       "        7.17546775e-03,  2.78550741e-03])"
      ]
     },
     "execution_count": 4,
     "metadata": {},
     "output_type": "execute_result"
    }
   ],
   "source": [
    "states[-1][0]\n",
    "#array([ 3.17061063e+00, -1.30406446e+00, -6.55786127e-01,  3.88351546e-03, 7.17546775e-03,  2.78550741e-03])"
   ]
  },
  {
   "cell_type": "code",
   "execution_count": null,
   "metadata": {},
   "outputs": [],
   "source": [
    "holman_end = np.array([3.170610610945097E+00, -1.304064500601741E+00, -6.557861417282043E-01,\n",
    "    3.883515574204547E-03, 7.175467701329115E-03, 2.785507382807673E-03])\n",
    "(states[-1][0]-holman_end)*1.5e8"
   ]
  },
  {
   "cell_type": "markdown",
   "metadata": {},
   "source": [
    "Below is a plot of the overall step-size as a function of elapsed integration time.  (The sub-steps are smaller).  A rough periodicity on the ~2000 day asteroid orbital period is evident."
   ]
  },
  {
   "cell_type": "code",
   "execution_count": null,
   "metadata": {},
   "outputs": [],
   "source": [
    "t=(times-times[0])[::8]\n",
    "dt=t[1:]-t[:-1]\n",
    "\n",
    "plt.plot(t[:-1], dt)\n",
    "plt.xlabel(\"time (days)\")\n",
    "plt.ylabel(\"step-size (days)\")\n",
    "plt.savefig('step_sizes.pdf')"
   ]
  },
  {
   "cell_type": "markdown",
   "metadata": {},
   "source": [
    "And here is a histogram of the step-sizes.  Most are 15-25 days."
   ]
  },
  {
   "cell_type": "code",
   "execution_count": null,
   "metadata": {},
   "outputs": [],
   "source": [
    "_=plt.hist(dt,bins=30)\n",
    "plt.xlabel(\"step-size (days)\")\n",
    "plt.ylabel(\"N\")\n",
    "plt.savefig('step_size_hist.pdf')"
   ]
  },
  {
   "cell_type": "markdown",
   "metadata": {},
   "source": [
    "Here are the xyz values as a function of time.  The coordinate system is equatorial, so the z component is not nearly zero."
   ]
  },
  {
   "cell_type": "code",
   "execution_count": null,
   "metadata": {},
   "outputs": [],
   "source": [
    "for i in range(3):\n",
    "    plt.plot(times-times[0], states[:,0,i])\n",
    "    plt.savefig('xyz_vs_t.pdf')"
   ]
  },
  {
   "cell_type": "markdown",
   "metadata": {},
   "source": [
    "The differences between the ASSIST-integrated states and those from Horizons are ~1km and ~3km after 4,000 and 10,000 days, respectively.\n",
    "\n",
    "Here is a top-down view of the orbit."
   ]
  },
  {
   "cell_type": "code",
   "execution_count": null,
   "metadata": {},
   "outputs": [],
   "source": [
    "plt.plot(states[:,0,0], states[:,0,1], linewidth=0.2)\n",
    "plt.axis('square')\n",
    "plt.xlabel('x (AU)')\n",
    "plt.ylabel('y (AU)')\n",
    "plt.savefig('xy.pdf')"
   ]
  },
  {
   "cell_type": "markdown",
   "metadata": {},
   "source": [
    "What about 'var' in the output?  It looks like there are extra particles.  In fact, for each actual particle production_integration_function_wrapper generates six \"variational particles\" or tangent vectors.  These are vectors with the same dimensionality as an actual particle state, but they are the result of integrating the linearized tangent equations, or variational equations.  There is one variational particle for each of the six dimensions, with the initial state being a unit vector.\n",
    "\n",
    "One way to think of the variational equations is to consider two states that are initially close to each other.  As we integrate both the two states will begin to separate.  We can imagine a vector pointing from one of the particles to the other.  (This is a vector is all six dimensions, both positions and velocities.) \n",
    "\n",
    "Suppose that instead of integrating the two particles we could integrate one of the particles and the vector from that particle to the other.  In addition to the equations of motion for the actual particle, we would need the equations of motion for the state vector between the two.  \n",
    "\n",
    "That is what the linearized variational equations are, the equations of motion for the separation between two particles.  As \"linearized\" suggests, these equations are good to first order in the separation.  Also, the variational equations are associated with a big 6x6 matrix, with the terms of the matrix depending only upon the state of the actual particle.  The terms in the matrix are independent of the state vector describing the separation of the particles.  \n",
    "\n",
    "The variational equations are the result of multiplying this big matrix by the state vector of the current separation.  That means we can multiply the same big matrix by any number of state vectors.   The big matrix is sparse (most of the elements are zero). So, the multiplication is not too expensive.  \n"
   ]
  },
  {
   "cell_type": "markdown",
   "metadata": {},
   "source": [
    "The plot below shows the difference the x-components of two initially nearby trajectories, as well as the x-component of a corresponding 'variational particle' with the same displacement.  The two curves are offset by a small amount.  Otherwise the difference is not visible on this scale."
   ]
  },
  {
   "cell_type": "code",
   "execution_count": null,
   "metadata": {},
   "outputs": [],
   "source": [
    "plt.plot(times-times[0], (states[:,1,:]-states[:,0,:])[:,0], label='numerical')\n",
    "plt.plot(times-times[0], var[:,0,0]*scale+1e-7, label='analytic')\n",
    "plt.legend()\n",
    "plt.savefig('numerical_vs_analytic.pdf')"
   ]
  },
  {
   "cell_type": "markdown",
   "metadata": {},
   "source": [
    "We can see the difference between the two approaches more clearly by subtracting one from the other.  They are, indeed, very close.  The difference is due to the nonlinear terms that are not included in the variational equations.   The amplitude of difference is quadratic in time.  This is expect as the variational equations are valid to first order in the initial displacement."
   ]
  },
  {
   "cell_type": "code",
   "execution_count": null,
   "metadata": {},
   "outputs": [],
   "source": [
    "plt.plot(times-times[0], (states[:,1,:]-states[:,0,:]-var[:,0,:]*scale)[:,0], label='x')\n",
    "plt.plot(times-times[0], (states[:,2,:]-states[:,0,:]-var[:,1,:]*scale)[:,1], label='y')\n",
    "plt.plot(times-times[0], (states[:,3,:]-states[:,0,:]-var[:,2,:]*scale)[:,2], label='z')\n",
    "#plt.ylim(-1e-13, 1e-13)\n",
    "plt.xlabel(\"time (days)\")\n",
    "plt.ylabel(\"AU\")\n",
    "plt.legend()\n",
    "plt.savefig('numerical_vs_analytic_difference.pdf')"
   ]
  },
  {
   "cell_type": "code",
   "execution_count": null,
   "metadata": {},
   "outputs": [],
   "source": [
    "fig, axs = plt.subplots(2)\n",
    "fig.suptitle('Integrated variational equations')\n",
    "\n",
    "axs[0].plot(times-times[0], (states[:,1,:]-states[:,0,:])[:,0], label='x numerical')\n",
    "axs[0].plot(times-times[0], var[:,0,0]*scale+1e-7, label='x analytic')\n",
    "axs[0].set_ylabel(\"AU\")\n",
    "axs[0].legend()\n",
    "axs[0].label_outer()\n",
    "#plt.savefig('numerical_vs_analytic.pdf')\n",
    "\n",
    "axs[1].plot(times-times[0], (states[:,1,:]-states[:,0,:]-var[:,0,:]*scale)[:,0], label='$\\Delta x$')\n",
    "axs[1].plot(times-times[0], (states[:,2,:]-states[:,0,:]-var[:,1,:]*scale)[:,1], label='$\\Delta y$')\n",
    "axs[1].plot(times-times[0], (states[:,3,:]-states[:,0,:]-var[:,2,:]*scale)[:,2], label='$\\Delta z$')\n",
    "#plt.ylim(-1e-13, 1e-13)\n",
    "axs[1].set_xlabel(\"time (days)\")\n",
    "axs[1].set_ylabel(\"AU\")\n",
    "axs[1].legend()\n",
    "plt.savefig('numerical_vs_analytic_2panel.pdf')\n"
   ]
  },
  {
   "cell_type": "code",
   "execution_count": null,
   "metadata": {},
   "outputs": [],
   "source": []
  }
 ],
 "metadata": {
  "anaconda-cloud": {},
  "kernelspec": {
   "display_name": "Python 3 (ipykernel)",
   "language": "python",
   "name": "python3"
  },
  "language_info": {
   "codemirror_mode": {
    "name": "ipython",
    "version": 3
   },
   "file_extension": ".py",
   "mimetype": "text/x-python",
   "name": "python",
   "nbconvert_exporter": "python",
   "pygments_lexer": "ipython3",
   "version": "3.10.5"
  }
 },
 "nbformat": 4,
 "nbformat_minor": 1
}
