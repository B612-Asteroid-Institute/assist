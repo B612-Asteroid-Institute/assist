{
 "cells": [
  {
   "cell_type": "markdown",
   "metadata": {},
   "source": [
    "### ASSIST tests: (3666) Holman term-by-term comparison"
   ]
  },
  {
   "cell_type": "markdown",
   "metadata": {},
   "source": [
    "Here we carry out a term-by-term comparison of the components of the various effects that contribute to the acceleration of asteroid (3666) Holman.  This comparison is between the results of ASSIST and those of the JPL small bodies integrator.\n",
    "\n",
    "ASSIST is a set of python-wrapped C functions that implement an ephemeris quality-integrator that have been compiled into a library.  That library is imported with the assist.py package.\n",
    "\n",
    "The primary function in assist.py is 'integration_function', which integrates massless test particles in the field of the Sun, planets, Moon, and 16 massive asteroids.  It also includes the J2, J3, and J4 gravitational harmonics of the Earth, the J2 gravitational harmonic of the Sun, and the solar GR terms (using the PPN formulation).  \n",
    "\n",
    "The positions of the massive bodies come from two binary files, both from JPL.  The first is for the Sun, planets, and Moon, with the latest DE441 ephemeris. The other is for the asteroids, corresponding to DE441.  \n",
    "\n",
    "The coordinate frame and units are not flexible, currently.  The coordinate frame is the equatorial ICRF, which is the native coordinate system for the JPL binary files.  Note that this is equatorial rather than ecliptic.  In addition, the native coordinates are barycentric, rather than heliocentric. \n",
    "\n",
    "For units we use solar masses, au, and days.  The independent time coordinate is TDB in Julian days.\n",
    "\n",
    "The underlying numerical integrator is IAS15 (Rein & Liu 2015), a 15th order predictor-corrector integrator with an adaptive step-size.  Each time step involves eight sub-steps.  We have modified the integrator to output the state at each of the sub-steps in order to support interpolation of the output."
   ]
  },
  {
   "cell_type": "code",
   "execution_count": 1,
   "metadata": {},
   "outputs": [],
   "source": [
    "import numpy as np\n",
    "import matplotlib\n",
    "import matplotlib.pyplot as plt\n",
    "%matplotlib inline\n",
    "import math\n",
    "import ctypes\n",
    "import importlib\n",
    "\n",
    "import spiceypy as spice\n",
    "\n",
    "import pkg_resources\n",
    "import sys\n",
    "sys.path.append(r'/Users/mholman/assist')\n",
    "import assist\n",
    "\n",
    "jd_ref = spice.j2000()\n",
    "\n",
    "plt.rc('text', usetex = True)\n"
   ]
  },
  {
   "cell_type": "code",
   "execution_count": 2,
   "metadata": {},
   "outputs": [],
   "source": [
    "# This cell defines the initial conditions we have used for this test.\n",
    "# The dynamical state available on Horizons now will be slightly different because \n",
    "# additional observations have been incorporated into the orbital solution.\n",
    "#\n",
    "# (3666) Holman at 2458849.5 TDB\n",
    "# From email with Davide Farnocchia\n",
    "row = [3.3388753502614090e+00, -9.1765182678903168e-01, -5.0385906775843303e-01,\n",
    "     2.8056633153049852e-03,  7.5504086883996860e-03,  2.9800282074358684e-03]"
   ]
  },
  {
   "cell_type": "code",
   "execution_count": 3,
   "metadata": {},
   "outputs": [
    {
     "name": "stdout",
     "output_type": "stream",
     "text": [
      "CPU times: user 1.84 ms, sys: 2.75 ms, total: 4.59 ms\n",
      "Wall time: 2.88 ms\n"
     ]
    }
   ],
   "source": [
    "%%time\n",
    "# Here we are looking at the term-by-term acceleration without actually integrating.\n",
    "# We simply evaluate the acceleration of the test particle at the start of a zero length\n",
    "# integration\n",
    "\n",
    "# We output both GR calculations for this comparison, but we only accumulate one of them.\n",
    "\n",
    "# Full GR\n",
    "# direct n-body accelerations, computed in ephemeris order.\n",
    "# Earth J2, J3, and J4\n",
    "# Solar J2\n",
    "\n",
    "# This generates three files: acc.out, eih_acc.out, and var_acc.out. \n",
    "\n",
    "# acc.out: a tabulation of the various acceleration terms, body by body,\n",
    "# along with the Earth J2-J3-J4, Solar J2, and the two forms of GR used\n",
    "# in the JPL integrator.\n",
    "\n",
    "# eih_acc.out: a break out of the constituent contributions of the full GR.  \n",
    "# We provide the equation in the paper, so we could point to the different \n",
    "# terms, but the main point is that the agreement is good to machine precision.\n",
    "# Davide provided this to support our debugging, so that we could demonstrate\n",
    "# that all the acceleration components had been coded correctly.  We use\n",
    "# JPL's ephemeris code as basis of comparison because has been thoroughly\n",
    "# tested through decades of use in spacecraft trajectory calculations. \n",
    "# Furthermore, matching the results of Horizons is a primary objective.\n",
    "\n",
    "# var_acc.out: this a comparison of the analytic and numerical partial derivatives\n",
    "# (computed with pairs of real particles with displaced initial conditions)\n",
    "# of the acceleration, component by component.  \n",
    "\n",
    "tstart, tstep, trange = 2458849.5-jd_ref, 20.0, 0\n",
    "\n",
    "epoch = tstart\n",
    "tend = tstart + trange\n",
    "\n",
    "instates = np.array([row])\n",
    "n_particles = 1\n",
    "\n",
    "part_params = None\n",
    "#part_params = np.array([[1e-10, 0.0, 0.0],[2e-10, 0.0, 0.0]])\n",
    "#part_params = np.array([[0.0, 1e-10, 0.0],[0.0, 2e-10, 0.0]])\n",
    "#part_params = np.array([[0.0, 0.0, 1e-10],[0.0, 0.0, 2e-10]])\n",
    "geocentric = 0\n",
    "\n",
    "n_var = 1\n",
    "\n",
    "invar_part = np.zeros(0, dtype=int)\n",
    "invar = np.zeros((1, 6))\n",
    "var_part_params = np.array([1., 0., 0.])\n",
    "#var_part_params = np.array([0., 1., 0.])\n",
    "#var_part_params = np.array([0., 0., 1.])\n",
    "\n",
    "nsubsteps = 10\n",
    "hg = np.arange(0, 1.1, 0.1, dtype=np.double)\n",
    "\n",
    "times, states, var, var_ng, status = assist.integration_function(tstart, tend, tstep, geocentric, \n",
    "                                                                       n_particles, instates, part_params, n_var, invar_part, invar, var_part_params, hg,\n",
    "                                                                       nsubsteps=nsubsteps)\n",
    "\n",
    "#(states[:,1,:]-states[:,0,:])[-1]-(var*1e-10)[-1]"
   ]
  },
  {
   "cell_type": "code",
   "execution_count": 1,
   "metadata": {},
   "outputs": [
    {
     "ename": "NameError",
     "evalue": "name 'states' is not defined",
     "output_type": "error",
     "traceback": [
      "\u001b[0;31m---------------------------------------------------------------------------\u001b[0m",
      "\u001b[0;31mNameError\u001b[0m                                 Traceback (most recent call last)",
      "Input \u001b[0;32mIn [1]\u001b[0m, in \u001b[0;36m<cell line: 1>\u001b[0;34m()\u001b[0m\n\u001b[0;32m----> 1\u001b[0m \u001b[43mstates\u001b[49m[\u001b[38;5;241m-\u001b[39m\u001b[38;5;241m1\u001b[39m]\n",
      "\u001b[0;31mNameError\u001b[0m: name 'states' is not defined"
     ]
    }
   ],
   "source": [
    "states[-1]"
   ]
  },
  {
   "cell_type": "code",
   "execution_count": null,
   "metadata": {},
   "outputs": [],
   "source": []
  }
 ],
 "metadata": {
  "anaconda-cloud": {},
  "kernelspec": {
   "display_name": "Python 3 (ipykernel)",
   "language": "python",
   "name": "python3"
  },
  "language_info": {
   "codemirror_mode": {
    "name": "ipython",
    "version": 3
   },
   "file_extension": ".py",
   "mimetype": "text/x-python",
   "name": "python",
   "nbconvert_exporter": "python",
   "pygments_lexer": "ipython3",
   "version": "3.10.5"
  }
 },
 "nbformat": 4,
 "nbformat_minor": 1
}
