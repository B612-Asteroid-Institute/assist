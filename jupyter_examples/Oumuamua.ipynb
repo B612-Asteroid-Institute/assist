{
 "cells": [
  {
   "cell_type": "markdown",
   "metadata": {},
   "source": [
    "### ASSIST tests: Oumuamua"
   ]
  },
  {
   "cell_type": "markdown",
   "metadata": {},
   "source": [
    "Here we use ASSIST to carry out an integration of the orbit of the interstellar object Oumuamua and compare the resluts with those of the JPL Horizons system. \n",
    "\n",
    "We include the non-gravitational forces as reported."
   ]
  },
  {
   "cell_type": "code",
   "execution_count": 1,
   "metadata": {},
   "outputs": [],
   "source": [
    "import numpy as np\n",
    "import matplotlib\n",
    "import matplotlib.pyplot as plt\n",
    "%matplotlib inline\n",
    "import math\n",
    "import ctypes\n",
    "import importlib\n",
    "\n",
    "import spiceypy as spice\n",
    "\n",
    "import pkg_resources\n",
    "import sys\n",
    "sys.path.append(r'/Users/mholman/assist')\n",
    "import assist\n",
    "\n",
    "jd_ref = spice.j2000()\n",
    "\n",
    "plt.rc('text', usetex = True)\n"
   ]
  },
  {
   "cell_type": "code",
   "execution_count": 2,
   "metadata": {},
   "outputs": [
    {
     "name": "stdout",
     "output_type": "stream",
     "text": [
      "Difference between ASSIST-integrated results and Horizons result (milli-arcsec):\n",
      "[[-7.47604497e-03  5.19158345e-03  8.15777542e-03 -7.61709881e-05\n",
      "   3.27826780e-05  5.99817586e-05]]\n"
     ]
    }
   ],
   "source": [
    "# Initial state at JD 2458000.0 TDB from Horizons.\n",
    "oumuamua = [-3.098174645904286E-01, -9.503323906135538E-02, -7.369060731375075E-02,\n",
    "     1.618361841713051E-02, 3.828424826583902E-02, -1.618547970969959E-02]\n",
    "\n",
    "# Final state at JD 2458100.0 TDB from Horizons.            \n",
    "oumuamua_end = np.array([2.290561617094304E+00, 5.318331921157045E-01, 6.834235512453959E-01, \n",
    "                         1.997238968641518E-02, 8.297708824663213E-05, 8.692640301917002E-03])\n",
    "\n",
    "tstart, tstep, trange = 2458000-jd_ref, 20.0, 100\n",
    "\n",
    "epoch = tstart\n",
    "tend = tstart + trange\n",
    "\n",
    "instates = np.array([oumuamua])\n",
    "n_particles = 1\n",
    "\n",
    "part_params = np.array([[2.790193367004E-7, 1.441264152527E-8, 1.573922634125E-8]])\n",
    "\n",
    "geocentric = 0\n",
    "\n",
    "n_var = 1\n",
    "\n",
    "invar_part = np.zeros(0, dtype=int)\n",
    "invar = np.zeros((1, 6))\n",
    "var_part_params = np.array([1., 1., 1.])\n",
    "#var_part_params = np.array([0., 1., 0.])\n",
    "#var_part_params = np.array([0., 0., 1.])\n",
    "\n",
    "nsubsteps = 10\n",
    "hg = np.arange(0, 1.1, 0.1, dtype=np.double)\n",
    "\n",
    "times, states, var, var_ng, status = assist.integration_function(tstart, tend, tstep, geocentric, \n",
    "                                                                       n_particles, instates, part_params, n_var, invar_part, invar, var_part_params, hg,\n",
    "                                                                       nsubsteps=nsubsteps,\n",
    "                                                                       epsilon=1e-8, min_dt=0.01)\n",
    "\n",
    "\n",
    "print('Difference between ASSIST-integrated results and Horizons result (milli-arcsec):')\n",
    "print(206265e3*(states[-1]-oumuamua_end)/2.29)"
   ]
  },
  {
   "cell_type": "code",
   "execution_count": null,
   "metadata": {},
   "outputs": [],
   "source": []
  }
 ],
 "metadata": {
  "anaconda-cloud": {},
  "kernelspec": {
   "display_name": "Python 3 (ipykernel)",
   "language": "python",
   "name": "python3"
  },
  "language_info": {
   "codemirror_mode": {
    "name": "ipython",
    "version": 3
   },
   "file_extension": ".py",
   "mimetype": "text/x-python",
   "name": "python",
   "nbconvert_exporter": "python",
   "pygments_lexer": "ipython3",
   "version": "3.10.5"
  }
 },
 "nbformat": 4,
 "nbformat_minor": 1
}
