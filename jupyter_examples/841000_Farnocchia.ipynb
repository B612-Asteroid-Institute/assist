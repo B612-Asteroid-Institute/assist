{
 "cells": [
  {
   "cell_type": "markdown",
   "metadata": {},
   "source": [
    "### ASSIST tests: (84100) Farnocchia integrations"
   ]
  },
  {
   "cell_type": "markdown",
   "metadata": {},
   "source": [
    "Here we demonstrate the integration of (84100) Farnocchia, a main belt asteroid,using ASSIST.  \n",
    "\n",
    "ASSIST is a set of python-wrapped C functions that implement an ephemeris quality-integrator that have been compiled into a library.  That library is imported with the assist.py package.\n",
    "\n",
    "The primary function in assist.py is 'integration_function', which integrates massless test particles in the field of the Sun, planets, Moon, and 16 massive asteroids.  It also includes the J2, J3, and J4 gravitational harmonics of the Earth, the J2 gravitational harmonic of the Sun, and the solar GR terms (using the PPN formulation).  \n",
    "\n",
    "The positions of the massive bodies come from two binary files, both from JPL.  The first is for the Sun, planets, and Moon, with the latest DE441 ephemeris. The other is for the asteroids, corresponding to DE441.  \n",
    "\n",
    "The coordinate frame and units are not flexible, currently.  The coordinate frame is the equatorial ICRF, which is the native coordinate system for the JPL binary files.  Note that this is equatorial rather than ecliptic.  In addition, the native coordinates are barycentric, rather than heliocentric. \n",
    "\n",
    "For units we use solar masses, au, and days.  The independent time coordinate is TDB in Julian days.\n",
    "\n",
    "The underlying numerical integrator is IAS15 (Rein & Liu 2015), a 15th order predictor-corrector integrator with an adaptive step-size.  Each time step involves eight sub-steps.  We have modified the integrator to output the state at each of the sub-steps in order to support interpolation of the output."
   ]
  },
  {
   "cell_type": "code",
   "execution_count": 1,
   "metadata": {},
   "outputs": [],
   "source": [
    "import numpy as np\n",
    "import matplotlib\n",
    "import matplotlib.pyplot as plt\n",
    "%matplotlib inline\n",
    "import math\n",
    "import ctypes\n",
    "import importlib\n",
    "\n",
    "import spiceypy as spice\n",
    "\n",
    "import pkg_resources\n",
    "import sys\n",
    "sys.path.append(r'/Users/mholman/assist')\n",
    "import assist\n",
    "\n",
    "jd_ref = spice.j2000()\n",
    "\n",
    "plt.rc('text', usetex = True)\n",
    "\n",
    "au_km = 149597870.700"
   ]
  },
  {
   "cell_type": "code",
   "execution_count": 2,
   "metadata": {},
   "outputs": [],
   "source": [
    "# This cell defines the initial conditions we have used for these integrations.\n",
    "# The dynamical state currently available on Horizons might be slightly different because additional\n",
    "# observations have been incorporated into the orbital solution.\n",
    "#\n",
    "# From Horizons\n",
    "# DE441\n",
    "# (84100) Farnocchia\n",
    "#2458849.500000000 = A.D. 2020-Jan-01 00:00:00.0000 TDB \n",
    "row = [9.572786624350362E-01, -2.101947659454845E+00, -7.418444809938682E-01,\n",
    "    9.715385994801106E-03, 6.153629531316274E-03, 1.549521077070705E-03]\n"
   ]
  },
  {
   "cell_type": "code",
   "execution_count": 8,
   "metadata": {},
   "outputs": [
    {
     "name": "stdout",
     "output_type": "stream",
     "text": [
      "10.0 0.00014947830043743338\n",
      "100.0 0.0016201784769183658\n",
      "1000.0 0.014035958881276128\n",
      "10000.0 2.386006594905532\n",
      "100000.0 31.57706081863238\n",
      "CPU times: user 8.54 s, sys: 2.22 s, total: 10.8 s\n",
      "Wall time: 10.8 s\n"
     ]
    }
   ],
   "source": [
    "%%time\n",
    "tstart, tstep = 2458849.5-jd_ref, 20.0\n",
    "\n",
    "instates = np.array([row])\n",
    "n_var = 0\n",
    "n_particles = 1\n",
    "geocentric = 0\n",
    "\n",
    "invar_part = None\n",
    "invar = None\n",
    "\n",
    "# Turn off the non-grav terms\n",
    "part_params = None\n",
    "var_part_params = None\n",
    "\n",
    "nsubsteps = 10\n",
    "hg = np.arange(0, 1.1, 0.1, dtype=np.double)\n",
    "\n",
    "\n",
    "with open('farnocchia_sb.txt') as file:\n",
    "    file.readline()\n",
    "    file.readline()\n",
    "    file.readline()\n",
    "    for line in file:\n",
    "        trange = float(line.split()[0])\n",
    "        vec = np.array(line.rstrip().split()[-3:], dtype=np.double)\n",
    "        tend = tstart + trange\n",
    "        times, states, var, var_ng, status = assist.integration_function(tstart, tend, tstep, geocentric, \n",
    "                                                                       n_particles, instates, part_params, n_var, invar_part, invar, var_part_params, hg,\n",
    "                                                                       nsubsteps=nsubsteps)\n",
    "        GMsun, sun = assist.all_ephem(0, jd_ref, times[-1])\n",
    "        holman_sb=vec/au_km + sun[0:3]\n",
    "        print(trange, np.linalg.norm((holman_sb-states[-1][0][0:3])*au_km*1e3))\n"
   ]
  },
  {
   "cell_type": "markdown",
   "metadata": {},
   "source": [
    "Speed tests:\n",
    "\n",
    "length (days) time (s)\n",
    "1e1           0.00312\n",
    "1e2           0.00943\n",
    "1e3           0.0700\n",
    "1e4           0.457\n",
    "1e5           4.56\n",
    "1e6          57.2\n",
    "\n",
    "\n",
    "Farnocchia\n",
    "     10 d:      0.019\n",
    "    100 d:      0.021\n",
    "   1000 d:      0.020\n",
    "  10000 d:      0.051\n",
    " 100000 d:      0.379\n",
    "1000000 d:      3.419"
   ]
  }
 ],
 "metadata": {
  "anaconda-cloud": {},
  "kernelspec": {
   "display_name": "Python 3 (ipykernel)",
   "language": "python",
   "name": "python3"
  },
  "language_info": {
   "codemirror_mode": {
    "name": "ipython",
    "version": 3
   },
   "file_extension": ".py",
   "mimetype": "text/x-python",
   "name": "python",
   "nbconvert_exporter": "python",
   "pygments_lexer": "ipython3",
   "version": "3.10.5"
  }
 },
 "nbformat": 4,
 "nbformat_minor": 1
}
