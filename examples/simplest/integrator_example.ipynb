{
 "cells": [
  {
   "cell_type": "markdown",
   "metadata": {},
   "source": [
    "Reminder: This needs to run in the correct conda environment.  Run \n",
    "source ~/conda_script.sh"
   ]
  },
  {
   "cell_type": "code",
   "execution_count": 1,
   "metadata": {},
   "outputs": [],
   "source": [
    "import numpy as np\n",
    "import pandas as pd\n",
    "pd.set_option('display.max_rows', 999)\n",
    "pd.set_option('display.width', 500)\n",
    "pd.set_option('display.notebook_repr_html', True)\n",
    "import matplotlib\n",
    "import matplotlib.pyplot as plt\n",
    "#import seaborn as sns\"\"\n",
    "%matplotlib inline\n",
    "import math\n",
    "from collections import defaultdict\n",
    "from collections import Counter\n",
    "from astropy.io import fits\n",
    "\n",
    "import importlib\n",
    "import ctypes\n",
    "\n",
    "import ephem_forces\n",
    "import importlib\n",
    "\n",
    "import MPC_library"
   ]
  },
  {
   "cell_type": "code",
   "execution_count": 7,
   "metadata": {},
   "outputs": [
    {
     "name": "stdout",
     "output_type": "stream",
     "text": [
      "2458869.5 2458969.5 20.0\n",
      "1\n",
      "f -0.2\n",
      "entering integration_function\n",
      "n_alloc: 12 2458849.5 2458869.5 20\n",
      "fac 1.0\n",
      "iter: 0 12 131 5502\n",
      "0\n",
      "[[ 3.39037478e+00 -7.65446064e-01 -4.43591043e-01  2.34340326e-03\n",
      "   7.66661091e-03  3.04535337e-03]]\n",
      "entering integration_function\n",
      "n_alloc: 20 2458869.5 2458969.5 20\n",
      "fac 1.0\n",
      "iter: 0 20 211 8862\n",
      "0\n",
      "[[ 3.50691304e+00  1.86770411e-02 -1.27377961e-01 -2.44349779e-05\n",
      "   7.92639036e-03  3.24277315e-03]]\n",
      "exiting production wrapper\n"
     ]
    },
    {
     "data": {
      "text/plain": [
       "(array([2458869.5       , 2458871.5       , 2458873.5       ,\n",
       "        2458875.5       , 2458877.5       , 2458879.5       ,\n",
       "        2458881.5       , 2458883.5       , 2458885.5       ,\n",
       "        2458887.5       , 2458889.5       , 2458891.00945678,\n",
       "        2458892.51891357, 2458894.02837035, 2458895.53782714,\n",
       "        2458897.04728392, 2458898.55674071, 2458900.06619749,\n",
       "        2458901.57565428, 2458903.08511106, 2458904.59456784,\n",
       "        2458906.05921956, 2458907.52387128, 2458908.988523  ,\n",
       "        2458910.45317471, 2458911.91782643, 2458913.38247815,\n",
       "        2458914.84712987, 2458916.31178158, 2458917.7764333 ,\n",
       "        2458919.24108502, 2458921.31656989, 2458923.39205475,\n",
       "        2458925.46753962, 2458927.54302449, 2458929.61850936,\n",
       "        2458931.69399422, 2458933.76947909, 2458935.84496396,\n",
       "        2458937.92044882, 2458939.99593369, 2458942.67921315,\n",
       "        2458945.36249261, 2458948.04577207, 2458950.72905153,\n",
       "        2458953.41233099, 2458956.09561045, 2458958.77888992,\n",
       "        2458961.46216938, 2458964.14544884, 2458966.8287283 ,\n",
       "        2458967.09585547, 2458967.36298264, 2458967.63010981,\n",
       "        2458967.89723698, 2458968.16436415, 2458968.43149132,\n",
       "        2458968.69861849, 2458968.96574566, 2458969.23287283,\n",
       "        2458969.5       ]),\n",
       " array([[[ 3.39037478e+00, -7.65446064e-01, -4.43591043e-01,\n",
       "           2.34340326e-03,  7.66661091e-03,  3.04535337e-03]],\n",
       " \n",
       "        [[ 3.39501509e+00, -7.50102360e-01, -4.37494259e-01,\n",
       "           2.29689715e-03,  7.67705702e-03,  3.05141646e-03]],\n",
       " \n",
       "        [[ 3.39956234e+00, -7.34737978e-01, -4.31385434e-01,\n",
       "           2.25034342e-03,  7.68728953e-03,  3.05739403e-03]],\n",
       " \n",
       "        [[ 3.40401643e+00, -7.19353344e-01, -4.25264739e-01,\n",
       "           2.20374288e-03,  7.69730840e-03,  3.06328602e-03]],\n",
       " \n",
       "        [[ 3.40837728e+00, -7.03948887e-01, -4.19132347e-01,\n",
       "           2.15709634e-03,  7.70711359e-03,  3.06909239e-03]],\n",
       " \n",
       "        [[ 3.41264479e+00, -6.88525033e-01, -4.12988427e-01,\n",
       "           2.11040464e-03,  7.71670507e-03,  3.07481309e-03]],\n",
       " \n",
       "        [[ 3.41681887e+00, -6.73082209e-01, -4.06833152e-01,\n",
       "           2.06366857e-03,  7.72608281e-03,  3.08044808e-03]],\n",
       " \n",
       "        [[ 3.42089943e+00, -6.57620844e-01, -4.00666692e-01,\n",
       "           2.01688897e-03,  7.73524676e-03,  3.08599730e-03]],\n",
       " \n",
       "        [[ 3.42488639e+00, -6.42141365e-01, -3.94489220e-01,\n",
       "           1.97006662e-03,  7.74419689e-03,  3.09146072e-03]],\n",
       " \n",
       "        [[ 3.42877967e+00, -6.26644199e-01, -3.88300906e-01,\n",
       "           1.92320236e-03,  7.75293315e-03,  3.09683828e-03]],\n",
       " \n",
       "        [[ 3.43257918e+00, -6.11129775e-01, -3.82101924e-01,\n",
       "           1.87629699e-03,  7.76145551e-03,  3.10212994e-03]],\n",
       " \n",
       "        [[ 3.43538463e+00, -5.99409430e-01, -3.77416415e-01,\n",
       "           1.84086944e-03,  7.76774592e-03,  3.10606680e-03]],\n",
       " \n",
       "        [[ 3.43813659e+00, -5.87679682e-01, -3.72725001e-01,\n",
       "           1.80541928e-03,  7.77391444e-03,  3.10995467e-03]],\n",
       " \n",
       "        [[ 3.44083502e+00, -5.75940716e-01, -3.68027755e-01,\n",
       "           1.76994686e-03,  7.77996106e-03,  3.11379355e-03]],\n",
       " \n",
       "        [[ 3.44347990e+00, -5.64192714e-01, -3.63324752e-01,\n",
       "           1.73445252e-03,  7.78588576e-03,  3.11758341e-03]],\n",
       " \n",
       "        [[ 3.44607117e+00, -5.52435861e-01, -3.58616065e-01,\n",
       "           1.69893662e-03,  7.79168853e-03,  3.12132422e-03]],\n",
       " \n",
       "        [[ 3.44860883e+00, -5.40670341e-01, -3.53901769e-01,\n",
       "           1.66339948e-03,  7.79736934e-03,  3.12501597e-03]],\n",
       " \n",
       "        [[ 3.45109282e+00, -5.28896338e-01, -3.49181937e-01,\n",
       "           1.62784147e-03,  7.80292818e-03,  3.12865864e-03]],\n",
       " \n",
       "        [[ 3.45352313e+00, -5.17114036e-01, -3.44456643e-01,\n",
       "           1.59226293e-03,  7.80836502e-03,  3.13225221e-03]],\n",
       " \n",
       "        [[ 3.45589972e+00, -5.05323620e-01, -3.39725963e-01,\n",
       "           1.55666419e-03,  7.81367984e-03,  3.13579665e-03]],\n",
       " \n",
       "        [[ 3.45822255e+00, -4.93525274e-01, -3.34989969e-01,\n",
       "           1.52104561e-03,  7.81887264e-03,  3.13929194e-03]],\n",
       " \n",
       "        [[ 3.46042504e+00, -4.82069730e-01, -3.30389545e-01,\n",
       "           1.48646565e-03,  7.82379462e-03,  3.14263648e-03]],\n",
       " \n",
       "        [[ 3.46257685e+00, -4.70607061e-01, -3.25784256e-01,\n",
       "           1.45186765e-03,  7.82860168e-03,  3.14593470e-03]],\n",
       " \n",
       "        [[ 3.46467799e+00, -4.59137436e-01, -3.21174170e-01,\n",
       "           1.41725191e-03,  7.83329377e-03,  3.14918660e-03]],\n",
       " \n",
       "        [[ 3.46672841e+00, -4.47661023e-01, -3.16559355e-01,\n",
       "           1.38261876e-03,  7.83787090e-03,  3.15239214e-03]],\n",
       " \n",
       "        [[ 3.46872809e+00, -4.36177990e-01, -3.11939880e-01,\n",
       "           1.34796850e-03,  7.84233304e-03,  3.15555131e-03]],\n",
       " \n",
       "        [[ 3.47067701e+00, -4.24688506e-01, -3.07315811e-01,\n",
       "           1.31330145e-03,  7.84668016e-03,  3.15866408e-03]],\n",
       " \n",
       "        [[ 3.47257514e+00, -4.13192739e-01, -3.02687217e-01,\n",
       "           1.27861793e-03,  7.85091226e-03,  3.16173045e-03]],\n",
       " \n",
       "        [[ 3.47442246e+00, -4.01690858e-01, -2.98054166e-01,\n",
       "           1.24391825e-03,  7.85502930e-03,  3.16475038e-03]],\n",
       " \n",
       "        [[ 3.47621895e+00, -3.90183031e-01, -2.93416725e-01,\n",
       "           1.20920271e-03,  7.85903127e-03,  3.16772385e-03]],\n",
       " \n",
       "        [[ 3.47796457e+00, -3.78669427e-01, -2.88774964e-01,\n",
       "           1.17447164e-03,  7.86291815e-03,  3.17065085e-03]],\n",
       " \n",
       "        [[ 3.48035108e+00, -3.62344508e-01, -2.82190088e-01,\n",
       "           1.12522996e-03,  7.86822892e-03,  3.17471893e-03]],\n",
       " \n",
       "        [[ 3.48263535e+00, -3.46008807e-01, -2.75596866e-01,\n",
       "           1.07595861e-03,  7.87330847e-03,  3.17869359e-03]],\n",
       " \n",
       "        [[ 3.48481733e+00, -3.29662803e-01, -2.68995492e-01,\n",
       "           1.02665847e-03,  7.87815675e-03,  3.18257477e-03]],\n",
       " \n",
       "        [[ 3.48689696e+00, -3.13306977e-01, -2.62386160e-01,\n",
       "           9.77330418e-04,  7.88277370e-03,  3.18636240e-03]],\n",
       " \n",
       "        [[ 3.48887418e+00, -2.96941808e-01, -2.55769063e-01,\n",
       "           9.27975352e-04,  7.88715925e-03,  3.19005644e-03]],\n",
       " \n",
       "        [[ 3.49074894e+00, -2.80567777e-01, -2.49144397e-01,\n",
       "           8.78594159e-04,  7.89131334e-03,  3.19365681e-03]],\n",
       " \n",
       "        [[ 3.49252118e+00, -2.64185365e-01, -2.42512355e-01,\n",
       "           8.29187724e-04,  7.89523589e-03,  3.19716346e-03]],\n",
       " \n",
       "        [[ 3.49419085e+00, -2.47795052e-01, -2.35873133e-01,\n",
       "           7.79756937e-04,  7.89892685e-03,  3.20057632e-03]],\n",
       " \n",
       "        [[ 3.49575791e+00, -2.31397319e-01, -2.29226925e-01,\n",
       "           7.30302685e-04,  7.90238615e-03,  3.20389534e-03]],\n",
       " \n",
       "        [[ 3.49722230e+00, -2.14992647e-01, -2.22573925e-01,\n",
       "           6.80825855e-04,  7.90561372e-03,  3.20712045e-03]],\n",
       " \n",
       "        [[ 3.49896329e+00, -1.93774452e-01, -2.13962882e-01,\n",
       "           6.16827980e-04,  7.90944288e-03,  3.21115072e-03]],\n",
       " \n",
       "        [[ 3.50053252e+00, -1.72546502e-01, -2.05341236e-01,\n",
       "           5.52795768e-04,  7.91288444e-03,  3.21502378e-03]],\n",
       " \n",
       "        [[ 3.50192988e+00, -1.51309838e-01, -1.96709409e-01,\n",
       "           4.88731137e-04,  7.91593823e-03,  3.21873950e-03]],\n",
       " \n",
       "        [[ 3.50315529e+00, -1.30065500e-01, -1.88067822e-01,\n",
       "           4.24636006e-04,  7.91860411e-03,  3.22229774e-03]],\n",
       " \n",
       "        [[ 3.50420868e+00, -1.08814530e-01, -1.79416899e-01,\n",
       "           3.60512293e-04,  7.92088190e-03,  3.22569835e-03]],\n",
       " \n",
       "        [[ 3.50508998e+00, -8.75579683e-02, -1.70757063e-01,\n",
       "           2.96361920e-04,  7.92277144e-03,  3.22894119e-03]],\n",
       " \n",
       "        [[ 3.50579911e+00, -6.62968576e-02, -1.62088737e-01,\n",
       "           2.32186807e-04,  7.92427256e-03,  3.23202611e-03]],\n",
       " \n",
       "        [[ 3.50633600e+00, -4.50322403e-02, -1.53412346e-01,\n",
       "           1.67988878e-04,  7.92538507e-03,  3.23495298e-03]],\n",
       " \n",
       "        [[ 3.50670061e+00, -2.37651594e-02, -1.44728313e-01,\n",
       "           1.03770056e-04,  7.92610882e-03,  3.23772164e-03]],\n",
       " \n",
       "        [[ 3.50689287e+00, -2.49665821e-03, -1.36037063e-01,\n",
       "           3.95322691e-05,  7.92644360e-03,  3.24033196e-03]],\n",
       " \n",
       "        [[ 3.50690258e+00, -3.79288065e-04, -1.35171449e-01,\n",
       "           3.31362729e-05,  7.92645564e-03,  3.24058315e-03]],\n",
       " \n",
       "        [[ 3.50691058e+00,  1.73808478e-03, -1.34305768e-01,\n",
       "           2.67401096e-05,  7.92646381e-03,  3.24083277e-03]],\n",
       " \n",
       "        [[ 3.50691687e+00,  3.85545929e-03, -1.33440020e-01,\n",
       "           2.03437813e-05,  7.92646813e-03,  3.24108081e-03]],\n",
       " \n",
       "        [[ 3.50692145e+00,  5.97283444e-03, -1.32574206e-01,\n",
       "           1.39472899e-05,  7.92646860e-03,  3.24132729e-03]],\n",
       " \n",
       "        [[ 3.50692432e+00,  8.09020920e-03, -1.31708327e-01,\n",
       "           7.55063727e-06,  7.92646520e-03,  3.24157220e-03]],\n",
       " \n",
       "        [[ 3.50692548e+00,  1.02075825e-02, -1.30842383e-01,\n",
       "           1.15382528e-06,  7.92645795e-03,  3.24181553e-03]],\n",
       " \n",
       "        [[ 3.50692493e+00,  1.23249534e-02, -1.29976373e-01,\n",
       "          -5.24314415e-06,  7.92644684e-03,  3.24205729e-03]],\n",
       " \n",
       "        [[ 3.50692268e+00,  1.44423208e-02, -1.29110300e-01,\n",
       "          -1.16402691e-05,  7.92643187e-03,  3.24229748e-03]],\n",
       " \n",
       "        [[ 3.50691871e+00,  1.65596837e-02, -1.28244162e-01,\n",
       "          -1.80375477e-05,  7.92641305e-03,  3.24253610e-03]],\n",
       " \n",
       "        [[ 3.50691304e+00,  1.86770411e-02, -1.27377961e-01,\n",
       "          -2.44349779e-05,  7.92639036e-03,  3.24277315e-03]]]),\n",
       " array([[[ 9.40077797e-01,  4.04612423e-04,  1.76884619e-04,\n",
       "          -6.11706600e-03,  4.12592197e-05,  1.80473284e-05],\n",
       "         [-2.38000236e-04,  9.38739545e-01,  1.83633257e-04,\n",
       "          -2.44982231e-05, -6.25846350e-03,  1.87365213e-05],\n",
       "         [-2.34807303e-04,  4.13213280e-04,  9.39228107e-01,\n",
       "          -2.41672791e-05,  4.21639705e-05, -6.20698685e-03],\n",
       "         [ 7.94420553e+00,  2.16205267e+01,  9.45358339e+00,\n",
       "           3.97198421e-01,  1.08099448e+00,  4.72665241e-01],\n",
       "         [-1.20531779e+01,  4.16241601e+01,  9.45556848e+00,\n",
       "          -6.02655759e-01,  2.08119715e+00,  4.72775965e-01],\n",
       "         [-1.20528896e+01,  2.16245494e+01,  2.94539527e+01,\n",
       "          -6.02639677e-01,  1.08121885e+00,  1.47268586e+00]],\n",
       " \n",
       "        [[ 9.27173708e-01,  4.91634151e-04,  2.14952002e-04,\n",
       "          -6.79010707e-03,  4.57827423e-05,  2.00289960e-05],\n",
       "         [-2.89751509e-04,  9.25534904e-01,  2.23157854e-04,\n",
       "          -2.72683659e-05, -6.94946315e-03,  2.07976771e-05],\n",
       "         [-2.85858336e-04,  5.02155762e-04,  9.26132841e-01,\n",
       "          -2.68987751e-05,  4.67998273e-05, -6.89149260e-03],\n",
       "         [ 8.73860209e+00,  2.37825149e+01,  1.03989135e+01,\n",
       "           3.97198144e-01,  1.08099373e+00,  4.72664911e-01],\n",
       "         [-1.32584893e+01,  4.57865541e+01,  1.04011203e+01,\n",
       "          -6.02655684e-01,  2.08119689e+00,  4.72775906e-01],\n",
       "         [-1.32581688e+01,  2.37869869e+01,  3.23993241e+01,\n",
       "          -6.02639563e-01,  1.08121865e+00,  1.47268558e+00]],\n",
       " \n",
       "        [[ 9.12904101e-01,  5.87830556e-04,  2.57039106e-04,\n",
       "          -7.48306234e-03,  5.04370916e-05,  2.20684542e-05],\n",
       "         [-3.47139396e-04,  9.10927542e-01,  2.66865374e-04,\n",
       "          -3.01371192e-05, -7.66170255e-03,  2.29209866e-05],\n",
       "         [-3.42466802e-04,  6.00504424e-04,  9.11648302e-01,\n",
       "          -2.97269320e-05,  5.15735243e-05, -7.59676355e-03],\n",
       "         [ 9.53299814e+00,  2.59445017e+01,  1.13442431e+01,\n",
       "           3.97197913e-01,  1.08099310e+00,  4.72664636e-01],\n",
       "         [-1.44638006e+01,  4.99489477e+01,  1.13466721e+01,\n",
       "          -6.02655622e-01,  2.08119668e+00,  4.72775858e-01],\n",
       "         [-1.44634479e+01,  2.59494240e+01,  3.53446950e+01,\n",
       "          -6.02639468e-01,  1.08121848e+00,  1.47268534e+00]],\n",
       " \n",
       "        ...,\n",
       " \n",
       "        [[ 2.18455814e+01, -1.98122654e-01, -7.89645955e-02,\n",
       "           3.47772379e-01, -3.27702725e-03, -1.30881052e-03],\n",
       "         [-6.92814209e-02, -1.16909242e+01,  3.62114003e-02,\n",
       "          -1.16092978e-03, -2.08988037e-01,  5.94026546e-04],\n",
       "         [-3.02288378e-02,  3.85774091e-02, -4.91851069e+00,\n",
       "          -4.58154052e-04,  5.61390381e-04, -8.67226723e-02],\n",
       "         [ 4.74516483e+01,  1.29141920e+02,  5.64673527e+01,\n",
       "           3.97195882e-01,  1.08098757e+00,  4.72662219e-01],\n",
       "         [-7.19967301e+01,  2.48631806e+02,  5.64805414e+01,\n",
       "          -6.02655077e-01,  2.08119480e+00,  4.72775430e-01],\n",
       "         [-7.19948145e+01,  1.29168645e+02,  1.75935554e+02,\n",
       "          -6.02638633e-01,  1.08121698e+00,  1.47268330e+00]],\n",
       " \n",
       "        [[ 2.19384808e+01, -1.98998037e-01, -7.93142143e-02,\n",
       "           3.47772214e-01, -3.27702578e-03, -1.30880994e-03],\n",
       "         [-6.95915362e-02, -1.17467505e+01,  3.63700806e-02,\n",
       "          -1.16092601e-03, -2.08987461e-01,  5.94024283e-04],\n",
       "         [-3.03512209e-02,  3.87273686e-02, -4.94167624e+00,\n",
       "          -4.58136537e-04,  5.61367077e-04, -8.67194229e-02],\n",
       "         [ 4.75577501e+01,  1.29430681e+02,  5.65936137e+01,\n",
       "           3.97195881e-01,  1.08098757e+00,  4.72662217e-01],\n",
       "         [-7.21577157e+01,  2.49187750e+02,  5.66068326e+01,\n",
       "          -6.02655077e-01,  2.08119480e+00,  4.72775430e-01],\n",
       "         [-7.21557957e+01,  1.29457468e+02,  1.76328948e+02,\n",
       "          -6.02638632e-01,  1.08121698e+00,  1.47268330e+00]],\n",
       " \n",
       "        [[ 2.20313802e+01, -1.99873419e-01, -7.96638329e-02,\n",
       "           3.47772051e-01, -3.27702431e-03, -1.30880936e-03],\n",
       "         [-6.99016506e-02, -1.18025766e+01,  3.65287603e-02,\n",
       "          -1.16092229e-03, -2.08986890e-01,  5.94022046e-04],\n",
       "         [-3.04735993e-02,  3.88773219e-02, -4.96484092e+00,\n",
       "          -4.58119181e-04,  5.61343984e-04, -8.67162039e-02],\n",
       "         [ 4.76638519e+01,  1.29719442e+02,  5.67198746e+01,\n",
       "           3.97195879e-01,  1.08098756e+00,  4.72662216e-01],\n",
       "         [-7.23187012e+01,  2.49743694e+02,  5.67331237e+01,\n",
       "          -6.02655076e-01,  2.08119480e+00,  4.72775429e-01],\n",
       "         [-7.23167768e+01,  1.29746290e+02,  1.76722342e+02,\n",
       "          -6.02638632e-01,  1.08121698e+00,  1.47268330e+00]]]))"
      ]
     },
     "execution_count": 7,
     "metadata": {},
     "output_type": "execute_result"
    }
   ],
   "source": [
    "# DE441\n",
    "# (3666) Holman\n",
    "#2458849.500000000 = A.D. 2020-Jan-01 00:00:00.0000 TDB [del_T=     69.183900 s]\n",
    "# X = 3.338875350265349E+00 Y =-9.176518267602161E-01 Z =-5.038590677470149E-01\n",
    "# VX= 2.805663315227095E-03 VY= 7.550408688437705E-03 VZ= 2.980028207454247E-03\n",
    "    \n",
    "#row =[3.338875350265349E+00, -9.176518267602161E-01, -5.038590677470149E-01, 2.805663315227095E-03, 7.550408688437705E-03, 2.980028207454247E-03]\n",
    "row = [3.338875349745594E+00, -9.176518281675284E-01, -5.038590682977396E-01, 2.805663319000732E-03, 7.550408687780768E-03, 2.980028206579994E-03]\n",
    "\n",
    "instates = np.array([row])\n",
    "n_particles = 1\n",
    "\n",
    "#tstart, tstep, trange = 2458849.5, 20.0, 100\n",
    "\n",
    "epoch, tstart, tstep, trange = 2458849.5, 2458869.5, 20.0, 100\n",
    "#epoch = tstart\n",
    "\n",
    "tend = tstart + trange\n",
    "\n",
    "print(tstart, tend, tstep)\n",
    "\n",
    "times, states, var, var_ng, status = ephem_forces.production_integration_function_wrapper(tstart, tend, epoch, instates)\n",
    "\n",
    "\n",
    "times, states, var"
   ]
  },
  {
   "cell_type": "code",
   "execution_count": null,
   "metadata": {},
   "outputs": [],
   "source": [
    "times[-1]"
   ]
  },
  {
   "cell_type": "code",
   "execution_count": null,
   "metadata": {},
   "outputs": [],
   "source": [
    "instates2 = states[-1]\n",
    "tstart2 = times[-1]\n",
    "tend2 = tstart\n",
    "tstep2 = -tstep\n",
    "epoch2 = tstart2\n",
    "\n",
    "times2, states2, var2, var_ng2, status2 = ephem_forces.production_integration_function_wrapper(tstart2, tend2, epoch2, instates2)\n"
   ]
  },
  {
   "cell_type": "code",
   "execution_count": null,
   "metadata": {},
   "outputs": [],
   "source": [
    "states2[-1]"
   ]
  },
  {
   "cell_type": "markdown",
   "metadata": {},
   "source": [
    "The next few cells were for getting initial conditions of the massive bodies for the Centaurs project with Jake.  They should be moved to a different directory.  That would give me a chance to test the portability of the ephem_forces library."
   ]
  },
  {
   "cell_type": "code",
   "execution_count": null,
   "metadata": {},
   "outputs": [],
   "source": [
    "GMsun, sun = ephem_forces.all_ephem(0, 2459600.500000000)"
   ]
  },
  {
   "cell_type": "code",
   "execution_count": null,
   "metadata": {},
   "outputs": [],
   "source": [
    "mat = MPC_library.rotate_matrix(-MPC_library.Constants.ecl)\n",
    "for i in range(11):\n",
    "    GM, state = ephem_forces.all_ephem(i, 2454466.5)\n",
    "    pos = state[0:3]\n",
    "    vel = state[3:6]\n",
    "    pos = np.dot(mat, pos)\n",
    "    vel = np.dot(mat, vel)\n",
    "    print('m_planet %.16le' %(GM/GMsun))\n",
    "    print('%.16le %.16le %.16le' %(pos[0], pos[1], pos[2]))\n",
    "    print('%.16le %.16le %.16le' %(vel[0], vel[1], vel[2]))"
   ]
  },
  {
   "cell_type": "code",
   "execution_count": null,
   "metadata": {},
   "outputs": [],
   "source": [
    "sun"
   ]
  },
  {
   "cell_type": "markdown",
   "metadata": {},
   "source": [
    "### Plan\n",
    "\n",
    "The integrator works.  Now it's time to use it.  \n",
    "\n",
    "1. Integrate over some interval, outputting substeps for each integration step.\n",
    "2. Use the output of the substeps to generate Chebyshev polynomials for each integration step.\n",
    "3. Use those to accurately interpolate the position, and possiby velocity, of the integrated object at any time within the interval.\n",
    "\n",
    "4. Get the observatory position at a set of UTC times.\n",
    "5. Use iterative light-time correction to get the observed position of the object at those times.\n",
    "\n",
    "6. Integrate initial conditions to match a set of observations."
   ]
  },
  {
   "cell_type": "markdown",
   "metadata": {},
   "source": [
    "Here we demonstrate the ephemeris-quality integrator by calling a python-wrapped C function that has been compiled into a library.  That library is imported with the ephem_forces.py package.\n",
    "\n",
    "The primary function in ephem_forces is 'integration_function', although we will access it with a higher-level function called 'production_integration_function_wrapper'.  'integration_function' integrates massless test particles in the field of the Sun, planets, moon, and 16 massive asteroids.  It also includes the J2 and J4 gravitational harmonics of the Earth, the J2 gravitational harmonic of the Sun, and the solar GR terms (using the PPN formulation).  \n",
    "\n",
    "The positions of the massive bodies come from two binary files, both from JPL.  The first is for the Sun, planets, and moon, with the latest DE441 ephemeris. The other is for the asteroids, corresponding to DE441.  \n",
    "\n",
    "The coordinate frame and units are not flexible, currently.  The coordinate frame is the equatorial ICRF, which is the native coordinate system for the JPL binary files.  Note that this is equatorial rather than ecliptic.  In addition, the native coordinates are barycentric, rather than heliocentric. \n",
    "\n",
    "For units we use solar masses, au, and days.  The independent time coordinate is TDB in Julian days."
   ]
  },
  {
   "cell_type": "markdown",
   "metadata": {},
   "source": [
    "We collect some initial conditions from JPL Horizons.  For asteroid (3666) Holman, we grab the barycentric position and velocity vectors, in units of au and au/day."
   ]
  },
  {
   "cell_type": "raw",
   "metadata": {},
   "source": [
    "# DE441 \n",
    "# heliocentric\n",
    "#2458849.500000000 = A.D. 2020-Jan-01 00:00:00.0000 TDB [del_T=     69.183900 s]\n",
    "# X = 3.342674681639715E+00 Y =-9.244683523355280E-01 Z =-5.068395961023143E-01\n",
    "# VX= 2.814015548668069E-03 VY= 7.552327120972679E-03 VZ= 2.980608879703206E-03\n",
    "row = [3.342674681639715E+00, -9.244683523355280E-01, -5.068395961023143E-01,\n",
    "    2.814015548668069E-03, 7.552327120972679E-03, 2.980608879703206E-03]\n",
    "instates = np.array([row])\n",
    "GMsun, sun = ephem_forces.all_ephem(0, 2458849.500000000)\n",
    "res = instates[0] + sun[0:6]\n",
    "row = []\n",
    "for j in range(6):\n",
    "    row.append(res[j])"
   ]
  },
  {
   "cell_type": "raw",
   "metadata": {},
   "source": [
    "# DE441\n",
    "# (394130)\n",
    "#2458849.500000000 = A.D. 2020-Jan-01 00:00:00.0000 TDB [del_T=     69.183900 s]\n",
    "# X =-3.695208756154107E+00 Y =-1.527448283346847E+00 Z = 3.831835238155900E-01\n",
    "# VX=-4.777297716907912E-03 VY=-3.105101882755925E-03 VZ=-8.479422803126437E-04\n",
    "row = [-3.695208756154107E+00, -1.527448283346847E+00, 3.831835238155900E-01, -4.777297716907912E-03, -3.105101882755925E-03, -8.479422803126437E-04]"
   ]
  },
  {
   "cell_type": "markdown",
   "metadata": {},
   "source": [
    "production_integration_function_wrapper is called with\n",
    "\n",
    "tstart: the start time of the output, in JD (TDB).\n",
    "\n",
    "tend: the end time of the output, in JD (TDB).\n",
    "    \n",
    "tepoch: the time at which the initial conditions, in JD (TDB).  Note that tepoch does not need to correspond to tstart or tend, nor does it need to be within the range of tstart and tend.\n",
    "\n",
    "instates: an array of 6-vectors, each of which is the position and velocity of a test particle at tstart.\n",
    "\n"
   ]
  },
  {
   "cell_type": "markdown",
   "metadata": {},
   "source": [
    "The output is:\n",
    "\n",
    "times: a numpy array of the times of output\n",
    "\n",
    "states: a numpy array of 6-vectors, one for each real particle at each output time.\n",
    "\n",
    "var: a numpy array of 6-vectors, one for each variational particle at each output time.\n",
    "\n",
    "var_ng: a numpy array of vectors (length?) to represent the variations with respect to the non-gravitational parameters.\n",
    "\n",
    "status: a flag indicating the outcome of the integration."
   ]
  },
  {
   "cell_type": "markdown",
   "metadata": {},
   "source": [
    "Now we integrate this one particle for 10,000 days.  "
   ]
  },
  {
   "cell_type": "code",
   "execution_count": null,
   "metadata": {},
   "outputs": [],
   "source": [
    "\n",
    "ICRF = np.array([[3.342674681643655E+00, -9.244683523067124E-01, -5.068395960908961E-01],\n",
    "[-6.333487647947349E-02, -4.101490687134884E-01, -2.125333556435262E-01],\n",
    "[7.232003000354648E-01,  6.452613453400362E-02, -1.672592916740240E-02]]).T\n",
    "\n",
    "\n",
    "Sun = np.array([[2.954252700212495E+00, -1.854271523442791E+00,  3.450655568440782E-01],\n",
    "[-1.747882863116961E-01, -4.315392487974600E-01, -2.503845286462576E-02],\n",
    "[ 7.126571683328389E-01, -1.320988590792954E-01,  4.617038628350368E-02]]).T\n"
   ]
  },
  {
   "cell_type": "code",
   "execution_count": null,
   "metadata": {},
   "outputs": [],
   "source": [
    "A =np.matmul(Sun, np.linalg.inv(ICRF))\n",
    "A"
   ]
  },
  {
   "cell_type": "code",
   "execution_count": null,
   "metadata": {},
   "outputs": [],
   "source": [
    "np.matmul(A, ICRF).T"
   ]
  },
  {
   "cell_type": "code",
   "execution_count": null,
   "metadata": {},
   "outputs": [],
   "source": [
    "\n",
    "Sun2 = np.array([ [4.801408493039603E-03,  7.124341862325499E-03, -1.748921268090565E-04],\n",
    "[2.098843615617622E-02, -7.999979434585941E-03,  5.768534258146244E-04],\n",
    "[3.591911441598157E-03,  1.981620334762863E-02, -4.506803543425547E-04]]).T\n",
    "\n",
    "    \n",
    "ICRF2 = np.array([[2.814015548590179E-03,  7.552327121010698E-03, 2.980608879721585E-03],\n",
    " [2.222816776857887E-02, -1.312708321506106E-03, -3.005368134707854E-03],\n",
    "[-1.547265544170301E-03,  1.827913575812348E-02, 8.322621039826183E-03]]).T\n",
    "\n",
    "A2 =np.matmul(Sun2, np.linalg.inv(ICRF2))\n",
    "A2, A"
   ]
  },
  {
   "cell_type": "code",
   "execution_count": null,
   "metadata": {},
   "outputs": [],
   "source": [
    "ICRF3=np.array([\n",
    "[ 5.261470562231202E-01,-4.775755205715124E+00,-2.059828630438416E+00],\n",
    "[ 3.797244866040094E+00,-8.525772233967986E+00,-3.685112112121498E+00],\n",
    "[ 1.622549719742635E+01, 1.050684419907994E+01, 4.372286327065908E+00]]).T\n",
    "    \n",
    "Sun3=np.array([\n",
    "[-8.213545652596842E-01,-5.157271791096192E+00, 2.355564631924294E-01],\n",
    "[ 1.279151598704325E+00,-9.923169928963429E+00, 7.631394273132386E-01],\n",
    "[ 1.850574842701914E+01, 6.940241275563274E+00, 1.465519787012176E+00]]).T\n",
    "\n",
    "A3 =np.matmul(Sun3, np.linalg.inv(ICRF3))\n",
    "A.T"
   ]
  },
  {
   "cell_type": "code",
   "execution_count": null,
   "metadata": {},
   "outputs": [],
   "source": [
    "RAp = np.arcsin(-9.60633821e-01)"
   ]
  },
  {
   "cell_type": "code",
   "execution_count": null,
   "metadata": {},
   "outputs": [],
   "source": [
    "-np.sin(RAp), -np.sin(Decs)*np.cos(RAp), np.cos(Decs)*np.cos(RAp)"
   ]
  },
  {
   "cell_type": "code",
   "execution_count": null,
   "metadata": {},
   "outputs": [],
   "source": [
    "np.cos(RAp),   -np.sin(Decs)*np.sin(RAp), np.cos(Decs)*np.sin(RAp)"
   ]
  },
  {
   "cell_type": "code",
   "execution_count": null,
   "metadata": {},
   "outputs": [],
   "source": [
    "0., np.cos(Decs), np.sin(Decs)"
   ]
  },
  {
   "cell_type": "code",
   "execution_count": null,
   "metadata": {},
   "outputs": [],
   "source": []
  },
  {
   "cell_type": "code",
   "execution_count": null,
   "metadata": {},
   "outputs": [],
   "source": [
    "jpl = np.array([-1.3023962309511364E-17, 4.6734608690892943E-18, -5.4774520501613936E-19])\n",
    "ours =np.array([-3.7943075433312321e-18, -1.3395935992098073e-17, 1.1491334453974039e-18])\n",
    "ours2 = np.array([-1.3294155428915666e-17, 3.3360189304865425e-18, 2.7027370646008695e-18])"
   ]
  },
  {
   "cell_type": "code",
   "execution_count": null,
   "metadata": {},
   "outputs": [],
   "source": [
    "vin = np.array([3.3426746816397150e+00, -9.2446835233552804e-01, -5.0683959610231433e-01])\n",
    "vout = np.array([9.5483022397623252e-01, 3.3710616278817742e+00, -9.6150311111680320e-02])"
   ]
  },
  {
   "cell_type": "code",
   "execution_count": null,
   "metadata": {},
   "outputs": [],
   "source": [
    "np.linalg.norm(vin), np.linalg.norm(vout)"
   ]
  },
  {
   "cell_type": "code",
   "execution_count": null,
   "metadata": {},
   "outputs": [],
   "source": [
    "#2458849.500000000 = A.D. 2020-Jan-01 00:00:00.0000 TDB [del_T=     69.183900 s]\n",
    "# X = 2.954252700212495E+00 Y =-1.854271523442791E+00 Z = 3.450655568440782E-01\n",
    "# VX= 4.801408493039603E-03 VY= 7.124341862325499E-03 VZ=-1.748921268090565E-04\n",
    "# This is the sun-asteroid vector in the frame of the Sun's equator at this epoch."
   ]
  },
  {
   "cell_type": "code",
   "execution_count": null,
   "metadata": {},
   "outputs": [],
   "source": [
    "np.linalg.norm(jpl), np.linalg.norm(ours), np.linalg.norm(ours2)"
   ]
  },
  {
   "cell_type": "code",
   "execution_count": null,
   "metadata": {},
   "outputs": [],
   "source": [
    "RAs = 268.13*np.pi/180.\n",
    "Decs = 63.87*np.pi/180.\n",
    "\n",
    "xz = np.cos(Decs)*np.cos(RAs)\n",
    "yz = np.cos(Decs)*np.sin(RAs)\n",
    "zz = np.sin(Decs)\n",
    "\n",
    "incl = np.arccos(zz)\n",
    "longnode = np.arctan2(xz, -yz)"
   ]
  },
  {
   "cell_type": "code",
   "execution_count": null,
   "metadata": {},
   "outputs": [],
   "source": [
    "xz, yz, zz, incl*180/np.pi, longnode*180/np.pi"
   ]
  },
  {
   "cell_type": "code",
   "execution_count": null,
   "metadata": {},
   "outputs": [],
   "source": [
    "xy = -yz\n",
    "yy =  xz\n",
    "zy = 0"
   ]
  },
  {
   "cell_type": "markdown",
   "metadata": {},
   "source": [
    "If we swap the start and end points, we get the same result."
   ]
  },
  {
   "cell_type": "code",
   "execution_count": null,
   "metadata": {
    "scrolled": true
   },
   "outputs": [],
   "source": [
    "\n",
    "timesp, statesp, varp, varp_ng, statusp = ephem_forces.production_integration_function_wrapper(tend, tstart, epoch, instates)\n"
   ]
  },
  {
   "cell_type": "code",
   "execution_count": null,
   "metadata": {},
   "outputs": [],
   "source": [
    "np.sum(statesp-states)"
   ]
  },
  {
   "cell_type": "markdown",
   "metadata": {},
   "source": [
    "If we keep the same epoch but cut down the range, the overlapping section is nearly the same, to the few meter level.  Numerically, this probably due to slightly different step sizes being used.  It might be the best that can be achieved with the precision of the positions of the  planets and asteroids.  Regardless, it is extremely small."
   ]
  },
  {
   "cell_type": "code",
   "execution_count": null,
   "metadata": {},
   "outputs": [],
   "source": [
    "timesp, statesp, varp, varp_ng, statusp = ephem_forces.production_integration_function_wrapper(tend-2000, tend, epoch, instates)#, epsilon=1e-8, tstep=20)\n"
   ]
  },
  {
   "cell_type": "code",
   "execution_count": null,
   "metadata": {},
   "outputs": [],
   "source": [
    "(statesp[-1][0]-states[-1][0])"
   ]
  },
  {
   "cell_type": "markdown",
   "metadata": {},
   "source": [
    "The underlying numerical integrator is IAS15 (Rein & Liu 2015), a 15th order predictor-corrector integrator with an adaptive step-size.  Each time step involves eight sub-steps.  We have modified the integrator to output the state at each of the sub-steps in order to support interpolation of the output.\n",
    "\n",
    "Below is a plot of the overall step-size as a function of elapsed integration time.  (The sub-steps are smaller).  A rough periodicity on the ~2000 day asteroid orbital period is evident."
   ]
  },
  {
   "cell_type": "code",
   "execution_count": null,
   "metadata": {},
   "outputs": [],
   "source": [
    "t=(times-times[0])[::8]\n",
    "dt=t[1:]-t[:-1]\n",
    "\n",
    "plt.plot(t[:-1], dt)\n",
    "plt.xlabel(\"time (days)\")\n",
    "plt.ylabel(\"step-size (days)\")"
   ]
  },
  {
   "cell_type": "markdown",
   "metadata": {},
   "source": [
    "And here is a histogram of the step-sizes.  Most are 15-25 days."
   ]
  },
  {
   "cell_type": "code",
   "execution_count": null,
   "metadata": {},
   "outputs": [],
   "source": [
    "_=plt.hist(dt,bins=30)\n",
    "plt.xlabel(\"step-size (days)\")\n",
    "plt.ylabel(\"N\")"
   ]
  },
  {
   "cell_type": "markdown",
   "metadata": {},
   "source": [
    "Here are the xyz values as a function of time.  The coordinate system is equatorial, so the z component is not nearly zero."
   ]
  },
  {
   "cell_type": "code",
   "execution_count": null,
   "metadata": {},
   "outputs": [],
   "source": [
    "for i in range(3):\n",
    "    plt.plot(times-times[0], states[:,0,i])"
   ]
  },
  {
   "cell_type": "code",
   "execution_count": null,
   "metadata": {},
   "outputs": [],
   "source": [
    "plt.plot(states[:,0,0], states[:,0,1], linewidth=0.2)\n",
    "plt.axis('square')\n",
    "plt.xlabel('x (AU)')\n",
    "plt.ylabel('y (AU)')"
   ]
  },
  {
   "cell_type": "markdown",
   "metadata": {},
   "source": [
    "And we can compare the output to what JPL Horizons gives.  "
   ]
  },
  {
   "cell_type": "code",
   "execution_count": null,
   "metadata": {},
   "outputs": [],
   "source": [
    "# No non-gravs\n",
    "# dt_min = 1e-2\n",
    "# epsilon = 1e-8\n",
    "\n",
    "# This is from JPL Horizons, using DE441 for the planets and sb441-n16 for the massive asteroids.\n",
    "\n",
    "#2468849.500000000 = A.D. 2047-May-19 00:00:00.0000 TDB [del_T=     69.185214 s]\n",
    "# X = 3.170610684726161E+00 Y =-1.304064355874703E+00 Z =-6.557860840042533E-01\n",
    "# VX= 3.883515127959035E-03 VY= 7.175467895958359E-03 VZ= 2.785507467676363E-03\n",
    "\n",
    "#DE441\n",
    "\n",
    "holman = np.array([3.170610684726161E+00, -1.304064355874703E+00, -6.557860840042533E-01,\n",
    "                   3.883515127959035E-03, 7.175467895958359E-03, 2.785507467676363E-03])\n",
    "    \n"
   ]
  },
  {
   "cell_type": "code",
   "execution_count": null,
   "metadata": {},
   "outputs": [],
   "source": [
    "# No non-gravs\n",
    "# dt_min = 1e-2\n",
    "# epsilon = 1e-8\n",
    "\n",
    "# This is from JPL Horizons, using DE441 for the planets and sb441-n16 for the massive asteroids.\n",
    "\n",
    "#(394130)\n",
    "#2468849.500000000 = A.D. 2047-May-19 00:00:00.0000 TDB [del_T=     69.185214 s]\n",
    "# X =-3.504730383385668E+00 Y =-2.123262871413949E+00 Z =-5.234096631335790E-01\n",
    "# VX= 5.050680077417927E-03 VY= 1.883409101375705E-03 VZ=-8.444052595199177E-04\n",
    "\n",
    "ast_394130 = np.array([-3.504730383385668E+00, -2.123262871413949E+00, -5.234096631335790E-01, 5.050680077417927E-03, 1.883409101375705E-03, -8.444052595199177E-04])"
   ]
  },
  {
   "cell_type": "markdown",
   "metadata": {},
   "source": [
    "The agreement after ~27 years is excellent, ~25 m or 1e-2 mas (assuming the object is 3 AU away)!  The remaining difference is probably due to the integrator or differences in the precision of the constants.\n"
   ]
  },
  {
   "cell_type": "code",
   "execution_count": null,
   "metadata": {},
   "outputs": [],
   "source": [
    "((states[-1][0]-holman)/3)*206265, (states[-1][0]-holman)*1.5e11"
   ]
  },
  {
   "cell_type": "code",
   "execution_count": null,
   "metadata": {},
   "outputs": [],
   "source": [
    "((states[-1][0]-ast_394130)/3)*206265, (states[-1][0]-ast_394130)*1.5e11"
   ]
  },
  {
   "cell_type": "markdown",
   "metadata": {},
   "source": [
    "Let's look at the output states in more detail."
   ]
  },
  {
   "cell_type": "code",
   "execution_count": null,
   "metadata": {},
   "outputs": [],
   "source": [
    "times.shape, states.shape, n_particles"
   ]
  },
  {
   "cell_type": "code",
   "execution_count": null,
   "metadata": {},
   "outputs": [],
   "source": [
    "var.shape"
   ]
  },
  {
   "cell_type": "markdown",
   "metadata": {},
   "source": [
    "What about 'var' in the output?  It looks like there are extra particles.  In fact, for each actual particle production_integration_function_wrapper generates six \"variational particles\" or tangent vectors.  These are vectors with the same dimensionality as an actual particle state, but they are the result of integrating the linearized tangent equations, or variational equations.  There is one variational particle for each of the six dimensions, with the initial state being a unit vector.\n",
    "\n",
    "One way to think of the variational equations is to consider two states that are initially close to each other.  As we integrate both the two states will begin to separate.  We can imagine a vector pointing from one of the particles to the other.  (This is a vector is all six dimensions, both positions and velocities.) \n",
    "\n",
    "Suppose that instead of integrating the two particles we could integrate one of the particles and the vector from that particle to the other.  In addition to the equations of motion for the actual particle, we would need the equations of motion for the state vector between the two.  \n",
    "\n",
    "That is what the linearized variational equations are, the equations of motion for the separation between two particles.  As \"linearized\" suggests, these equations are good to first order in the separation.  Also, the variational equations are associated with a big 6x6 matrix, with the terms of the matrix depending only upon the state of the actual particle.  The terms in the matrix are independent of the state vector describing the separation of the particles.  \n",
    "\n",
    "The variational equations are the result of multiplying this big matrix by the state vector of the current separation.  That means we can multiply the same big matrix by any number of state vectors.   The big matrix is sparse (most of the elements are zero). So, the multiplication is not too expensive.  \n"
   ]
  },
  {
   "cell_type": "markdown",
   "metadata": {},
   "source": [
    "We can explore this in more detail using the primary routine 'integration_function', which requires more input but allows more control over what is actually integrated.\n",
    "\n",
    "integration_function is called with\n",
    "\n",
    "tstart: the start time in JD (TDB)\n",
    "\n",
    "tend: the end time in JD (TDB)\n",
    "\n",
    "tstep: a suggested time step in days.  The integrator might alter this, depending upon the value of epsilon (see below).\n",
    "\n",
    "geocentric: this is an integer (0 or 1).  0 is for barycentric and 1 is for geocentric.\n",
    "n_particles: the integer number of input particles\n",
    "\n",
    "instates: an array of 6-vectors, each of which is the position and velocity of a test particle at tstart.\n",
    "\n",
    "invar_part: an array of integers that specify which real particle is the host for each input variational particle\n",
    "\n",
    "invar: an array of 6-vectors, each of which represents a variational particle.\n",
    "\n",
    "epsilon: this is a float that affects the adaptive step size control.  The default value is 1e-8.  Negative values indicate a fixed step size."
   ]
  },
  {
   "cell_type": "markdown",
   "metadata": {},
   "source": [
    "Now we test the variational equation by looking at a set of addition real particles.  In particular, we include another six real particles, each offset by a small amount, given by 'scale', along each of those same dimension."
   ]
  },
  {
   "cell_type": "code",
   "execution_count": null,
   "metadata": {},
   "outputs": [],
   "source": [
    "instates = np.array([row])\n",
    "n_var = 6\n",
    "n_particles = 7\n",
    "geocentric = 0\n",
    "\n",
    "\n",
    "invar_part = np.zeros(6, dtype=int)\n",
    "invar = np.identity(6)\n",
    "\n",
    "scale = 1e-8\n",
    "instatesp = np.array([row]*6)+scale*invar\n",
    "instates=np.vstack([instates, instatesp])\n"
   ]
  },
  {
   "cell_type": "code",
   "execution_count": null,
   "metadata": {},
   "outputs": [],
   "source": [
    "times, states, var, var_ng, status = ephem_forces.integration_function(tstart, tend, tstep, geocentric, \n",
    "                                                               n_particles, instates, n_var, invar_part, invar)#, epsilon=1e-8)\n"
   ]
  },
  {
   "cell_type": "markdown",
   "metadata": {},
   "source": [
    "The plot below shows the difference the x-components of two initially nearby trajectories, as well as the x-component of a corresponding 'variational particle' with the same displacement.  The two curves are offset by a small amount.  Otherwise the difference is not visible on this scale."
   ]
  },
  {
   "cell_type": "code",
   "execution_count": null,
   "metadata": {},
   "outputs": [],
   "source": [
    "plt.plot(times-times[0], (states[:,1,:]-states[:,0,:])[:,0], label='diff')\n",
    "plt.plot(times-times[0], var[:,0,0]*scale+1e-7, label='vari')\n",
    "plt.legend()\n"
   ]
  },
  {
   "cell_type": "markdown",
   "metadata": {},
   "source": [
    "We can see the difference between the two approaches more by subtracting one from the other.  They are, indeed, very close.  The difference is due to the nonlinear terms that are not included in the variational equations.   The amplitude of difference is quadratic in time.  This is expect as the variational equations are valide to first order in the initial displacement."
   ]
  },
  {
   "cell_type": "code",
   "execution_count": null,
   "metadata": {},
   "outputs": [],
   "source": [
    "plt.plot(times-times[0], (states[:,1,:]-states[:,0,:]-var[:,0,:]*scale)[:,0], label='x')\n"
   ]
  },
  {
   "cell_type": "markdown",
   "metadata": {},
   "source": [
    "The plot below shows the results for the x, y, and z components."
   ]
  },
  {
   "cell_type": "code",
   "execution_count": null,
   "metadata": {},
   "outputs": [],
   "source": [
    "plt.plot(times-times[0], (states[:,1,:]-states[:,0,:]-var[:,0,:]*scale)[:,0], label='x')\n",
    "plt.plot(times-times[0], (states[:,2,:]-states[:,0,:]-var[:,1,:]*scale)[:,1], label='y')\n",
    "plt.plot(times-times[0], (states[:,3,:]-states[:,0,:]-var[:,2,:]*scale)[:,2], label='z')\n",
    "#plt.ylim(-1e-13, 1e-13)\n",
    "plt.xlabel(\"time (days)\")\n",
    "plt.ylabel(\"AU\")\n",
    "plt.legend()"
   ]
  },
  {
   "cell_type": "markdown",
   "metadata": {},
   "source": [
    "### Chebyshev polynomials\n",
    "\n",
    "Each combination of initial conditions and associated parameters represents a trajectory over some time span, finite or infinite.  For the purposes of fitting an orbit to observations, it is necessary to determine the position, and possibly velocity, at the light-time corrected times of the observations.  Thus, it is often necessary to be able to determine the dynamical state at arbitrary times along the trajectory.  Rather than repeated integrating to a set of observation times, it can be more efficient to integrate once to a series of reference times and then interpolate the results for other times.\n",
    "\n",
    "Note that for each overall step taken by the integrator, a number of substeps are included in the output.  I have explored a couple of options for this.  One is output at each of the Gauss-Radau integration substeps.  Another is output at the conventional Chebyshev nodes, as well as the end points.  Both sets of output make interpolation relatively easy, but the latter appears to have better performance.  The goal is to ensure that the error associated with the interpolation is smaller than the error of the integration itself, which is machine precision for IAS15.\n",
    "\n"
   ]
  },
  {
   "cell_type": "code",
   "execution_count": null,
   "metadata": {},
   "outputs": [],
   "source": [
    "instates = np.array([row])\n",
    "n_particles = 1\n",
    "\n",
    "tstart, tstep, trange = 2458849.5, 20.0, 10000\n",
    "\n",
    "epoch = tstart\n",
    "tend = tstart + trange\n",
    "\n",
    "timesp, statesp, varp, varp_ng, statusp = ephem_forces.production_integration_function_wrapper(tstart, tend, epoch, instates)\n"
   ]
  },
  {
   "cell_type": "code",
   "execution_count": null,
   "metadata": {},
   "outputs": [],
   "source": [
    "statesp.shape"
   ]
  },
  {
   "cell_type": "code",
   "execution_count": null,
   "metadata": {},
   "outputs": [],
   "source": [
    "import numpy.polynomial.chebyshev as ch"
   ]
  },
  {
   "cell_type": "markdown",
   "metadata": {},
   "source": [
    "\n",
    "\n",
    "Let's set aside for now the idea of using the invere vandermonde matrix and just concentrate on least squares fitting of chebyshev polynomials."
   ]
  },
  {
   "cell_type": "code",
   "execution_count": null,
   "metadata": {},
   "outputs": [],
   "source": [
    "pts = np.polynomial.chebyshev.chebpts1(7)\n",
    "pts"
   ]
  },
  {
   "cell_type": "code",
   "execution_count": null,
   "metadata": {},
   "outputs": [],
   "source": [
    "V = ch.chebvander(pts, 6 )\n",
    "\n",
    "Vinv = np.linalg.inv(V)"
   ]
  },
  {
   "cell_type": "code",
   "execution_count": null,
   "metadata": {},
   "outputs": [],
   "source": [
    "y = statesp[1:8,:,2]"
   ]
  },
  {
   "cell_type": "code",
   "execution_count": null,
   "metadata": {},
   "outputs": [],
   "source": [
    "f0 = np.dot(Vinv, y)"
   ]
  },
  {
   "cell_type": "code",
   "execution_count": null,
   "metadata": {},
   "outputs": [],
   "source": [
    "x = np.arange(-1, 1, 0.001)\n",
    "x"
   ]
  },
  {
   "cell_type": "code",
   "execution_count": null,
   "metadata": {},
   "outputs": [],
   "source": [
    "y0 = ch.chebval(x, f0)"
   ]
  },
  {
   "cell_type": "code",
   "execution_count": null,
   "metadata": {},
   "outputs": [],
   "source": [
    "plt.plot(x, y0[0]-y[0])\n",
    "#plt.ylim(-1e-15, 1e-15)"
   ]
  },
  {
   "cell_type": "code",
   "execution_count": null,
   "metadata": {},
   "outputs": [],
   "source": [
    "y0, y"
   ]
  },
  {
   "cell_type": "markdown",
   "metadata": {},
   "source": [
    "* integrate the trajectory over a time span. DONE\n",
    "* get the observatory positions for a series of observations (these should be barycentric J2000 equatorial).\n",
    "* fit the segments and save the results. DONE\n",
    "* evaluate the trajectory at various times. DONE\n",
    "* do light-time correction iteration from a specific observatory location at a specific time. DONE\n",
    "* compare the model results to the observed results. DONE\n",
    "* get the partial derivatives of the observables with respect to the parameters\n"
   ]
  },
  {
   "cell_type": "code",
   "execution_count": null,
   "metadata": {},
   "outputs": [],
   "source": [
    "1e-7*1.5e8"
   ]
  },
  {
   "cell_type": "code",
   "execution_count": null,
   "metadata": {},
   "outputs": [],
   "source": [
    "# include geocentric option\n",
    "def get_observation_data(line, geocentric=False):\n",
    "    \n",
    "    fields = line.split()\n",
    "    trackletID = fields[0].strip()\n",
    "    obsCode = fields[4].strip()\n",
    "    jd_tdb = float(fields[7])\n",
    "        \n",
    "    x_target, y_target, z_target = fields[8:11]\n",
    "    r_target = np.array([float(x_target), float(y_target), float(z_target)])\n",
    "\n",
    "    x_obs, y_obs, z_obs = fields[11:14]\n",
    "    r_obs = np.array([float(x_obs), float(y_obs), float(z_obs)])\n",
    "    if geocentric:\n",
    "        r_E = np.array(MPC_library.getEarthPosition(jd_tdb))\n",
    "        #r_E = np.array(ephem_forces.all_ephem(3, jd_tdb)[1:4])\n",
    "        r_obs -= r_E\n",
    "        print(jd_tdb, r_obs, obsCode)\n",
    "    \n",
    "    return jd_tdb, r_target, r_obs"
   ]
  },
  {
   "cell_type": "code",
   "execution_count": null,
   "metadata": {},
   "outputs": [],
   "source": [
    "def get_basis(v):\n",
    "    x, y, z = v\n",
    "    r = np.sqrt(x*x + y*y)\n",
    "    if r==0.0:\n",
    "        A = np.array((-1, 0.0, 0.0))\n",
    "    else:\n",
    "        A = np.array((-y/r, x/r, 0.0))\n",
    "    \n",
    "    D = np.cross(v, A)\n",
    "    \n",
    "    return A, D\n",
    "    \n",
    "    "
   ]
  },
  {
   "cell_type": "code",
   "execution_count": null,
   "metadata": {},
   "outputs": [],
   "source": [
    "v = np.array((0, 1, 0))\n",
    "A, D = get_basis(v)"
   ]
  },
  {
   "cell_type": "code",
   "execution_count": null,
   "metadata": {},
   "outputs": [],
   "source": [
    "A, D"
   ]
  },
  {
   "cell_type": "code",
   "execution_count": null,
   "metadata": {},
   "outputs": [],
   "source": [
    "(36*8 + 36)/40"
   ]
  },
  {
   "cell_type": "code",
   "execution_count": null,
   "metadata": {},
   "outputs": [],
   "source": [
    "def get_residuals(v1, v2):\n",
    "    # This can be streamlined\n",
    "    # The A and D matrices and be\n",
    "    # saved for each data point\n",
    "    x, y, z = v1\n",
    "    #r = np.sqrt(x*x + y*y)\n",
    "    delta = np.arcsin(z)\n",
    "    alpha = np.arctan2(y, x)\n",
    "    sina = np.sin(alpha)\n",
    "    #sina = y/r\n",
    "    cosa = np.cos(alpha)\n",
    "    #cosa = x/r\n",
    "    sind = np.sin(delta)\n",
    "    #sind = z\n",
    "    cosd = np.cos(delta)\n",
    "    A = np.array((-sina, cosa, 0.0))\n",
    "    D = np.array((-sind*cosa, -sind*sina, cosd))\n",
    "    return (np.dot(v2, A), np.dot(v2, D))"
   ]
  },
  {
   "cell_type": "code",
   "execution_count": null,
   "metadata": {},
   "outputs": [],
   "source": [
    "def save_trajectory(times, states):\n",
    "    fits = []\n",
    "    time_tags = []\n",
    "    for i in range(0, len(times)-1, 8):\n",
    "        data = np.reshape(states[i:i+9,:,0:3], (9, 3))\n",
    "        x = times[i:i+9]-times[i+4]\n",
    "        t0 = times[i+4]\n",
    "        dt = x[-1]-x[0]\n",
    "        f = ch.chebfit(2*x/dt, data, 7)\n",
    "        fits.append((t0, dt, f))\n",
    "        time_tags.append(times[i])\n",
    "    time_tags = np.array(time_tags)\n",
    "    return time_tags, fits"
   ]
  },
  {
   "cell_type": "code",
   "execution_count": null,
   "metadata": {},
   "outputs": [],
   "source": [
    "# DE441\n",
    "# (3666) Holman\n",
    "#2458849.500000000 = A.D. 2020-Jan-01 00:00:00.0000 TDB [del_T=     69.183900 s]\n",
    "# X = 3.338875349745594E+00 Y =-9.176518281675284E-01 Z =-5.038590682977396E-01\n",
    "# VX= 2.805663319000732E-03 VY= 7.550408687780768E-03 VZ= 2.980028206579994E-03\n",
    "row = [3.338875349745594E+00, -9.176518281675284E-01, -5.038590682977396E-01, 2.805663319000732E-03, 7.550408687780768E-03, 2.980028206579994E-03]\n"
   ]
  },
  {
   "cell_type": "code",
   "execution_count": null,
   "metadata": {},
   "outputs": [],
   "source": [
    "tstart = 2458895.017041\n",
    "\n",
    "       \n",
    "#       2458895.017041000 = A.D. 2020-Feb-15 12:24:32.3424 TDB [del_T=     69.185127 s]\n",
    "# X =-8.249088716487324E-01 Y = 5.128233312454121E-01 Z = 2.229322025922279E-01\n",
    "# VX=-1.055227553661174E-02 VY=-1.358415461735038E-02 VZ=-5.295679016887025E-03\n",
    "row = [-8.249088716487324E-01, 5.128233312454121E-01, 2.229322025922279E-01,\n",
    "        -1.055227553661174E-02, -1.358415461735038E-02, -5.295679016887025E-03]\n",
    "\n",
    "#2458894.500000000 = A.D. 2020-Feb-15 00:00:00.0000 TDB [del_T=     69.185116 s]\n",
    "# X =-8.193874027610940E-01 Y = 5.198340919082048E-01 Z = 2.256562195597833E-01\n",
    "# VX=-1.081684176011098E-02 VY=-1.353532640193796E-02 VZ=-5.241845834560792E-03\n",
    "\n",
    "#2458894.500000000 = A.D. 2020-Feb-15 00:00:00.0000 TDB [del_T=     69.185116 s]\n",
    "row = [-8.193874027610940E-01, 5.198340919082048E-01, 2.256562195597833E-01,\n",
    "       -1.081684176011098E-02, -1.353532640193796E-02, -5.241845834560792E-03]\n",
    "\n",
    "#2458897.500000000 = A.D. 2020-Feb-18 00:00:00.0000 TDB [del_T=     69.185180 s]\n",
    "# X =-8.499386338554212E-01 Y = 4.787625651895777E-01 Z = 2.094777670024411E-01\n",
    "# VX=-9.661210198068209E-03 VY=-1.385885178755969E-02 VZ=-5.532765642013616E-03\n",
    "row = [-8.499386338554212E-01, 4.787625651895777E-01, 2.094777670024411E-01, \n",
    "    -9.661210198068209E-03, -1.385885178755969E-02, -5.532765642013616E-03]\n",
    "\n",
    "#2458897.500000000 = A.D. 2020-Feb-18 00:00:00.0000 TDB [del_T=     69.185180 s]\n",
    "# X =-3.118500479970055E-03 Y =-1.512873873465409E-03 Z = 1.239844826099388E-03\n",
    "# VX=-3.789003661569063E-04 VY=-3.369885641555601E-04 VZ= 3.279972338540866E-04\n",
    "row = [-3.118500479970055E-03, -1.512873873465409E-03, 1.239844826099388E-03, \n",
    "     -3.789003661569063E-04, -3.369885641555601E-04, 3.279972338540866E-04]"
   ]
  },
  {
   "cell_type": "code",
   "execution_count": null,
   "metadata": {},
   "outputs": [],
   "source": [
    "instates = np.array([row])\n",
    "\n",
    "n_particles = 1\n",
    "\n",
    "tstart, tstep, trange = 2458849.5, 2.0, 2000\n",
    "tstart, tstep, tend = 2458894.500000000, 2, 2458932.50\n",
    "\n",
    "epoch = 2458897.500000000\n",
    "#tend = tstart + trange\n",
    "\n",
    "timesp, statesp, varp, varp_ng, statusp = ephem_forces.production_integration_function_wrapper(tstart, tend, epoch, instates, tstep=2.0, geocentric=1)#, epsilon=1e-8, tstep=20)\n"
   ]
  },
  {
   "cell_type": "code",
   "execution_count": null,
   "metadata": {},
   "outputs": [],
   "source": [
    "len(timesp), len(statesp)"
   ]
  },
  {
   "cell_type": "code",
   "execution_count": null,
   "metadata": {},
   "outputs": [],
   "source": [
    "timesp[-1], statesp[-1], statesp[0], timesp[0]"
   ]
  },
  {
   "cell_type": "code",
   "execution_count": null,
   "metadata": {},
   "outputs": [],
   "source": [
    "#2458894.500000000 = A.D. 2020-Feb-15 00:00:00.0000 TDB [del_T=     69.185116 s]\n",
    "K20C03D = np.array([-1.562333877039780E-03, -3.277988442969260E-04, 1.300908692605723E-04,\n",
    "     -7.738749028274221E-04, -4.723132211708606E-04, 4.202738544505411E-04])"
   ]
  },
  {
   "cell_type": "code",
   "execution_count": null,
   "metadata": {},
   "outputs": [],
   "source": [
    " K20C03D = np.array([-8.855745866541963E-03, -6.174222186235641E-03, 7.065718386911509E-03,\n",
    " -1.282144988613095E-04, -1.338814161041129E-05, 6.548842150422916E-05])"
   ]
  },
  {
   "cell_type": "code",
   "execution_count": null,
   "metadata": {},
   "outputs": [],
   "source": [
    "(K20C03D - statesp[-1])*1.5e8"
   ]
  },
  {
   "cell_type": "code",
   "execution_count": null,
   "metadata": {},
   "outputs": [],
   "source": [
    "np.array(row).reshape(1, 6)"
   ]
  },
  {
   "cell_type": "code",
   "execution_count": null,
   "metadata": {},
   "outputs": [],
   "source": [
    "6400*2*3.14/(24*60*60)"
   ]
  },
  {
   "cell_type": "code",
   "execution_count": null,
   "metadata": {},
   "outputs": [],
   "source": [
    "tend"
   ]
  },
  {
   "cell_type": "code",
   "execution_count": null,
   "metadata": {},
   "outputs": [],
   "source": [
    "obs = []\n",
    "with open('3666_eq_bary.mpc') as file:\n",
    "        line=file.readline()\n",
    "        for line in file:\n",
    "            jd_tdb, r_target, r_obs = get_observation_data(line)\n",
    "            obs.append((jd_tdb, r_target, r_obs))"
   ]
  },
  {
   "cell_type": "code",
   "execution_count": null,
   "metadata": {},
   "outputs": [],
   "source": [
    "2458895.017041000 = A.D. 2020-Feb-15 12:24:32.3424 TDB [del_T=     69.185127 s]\n",
    " X =-8.229843715810257E-01 Y = 5.133866216380784E-01 Z = 2.225894275786583E-01\n",
    " VX=-9.913923474824957E-03 VY=-1.314467346840790E-02 VZ=-5.697451462034082E-03"
   ]
  },
  {
   "cell_type": "code",
   "execution_count": null,
   "metadata": {},
   "outputs": [],
   "source": [
    "(-8.229843715810257E-01 - -0.82298367)*1.5e8"
   ]
  },
  {
   "cell_type": "code",
   "execution_count": null,
   "metadata": {},
   "outputs": [],
   "source": [
    "2458895.017040800 = A.D. 2020-Feb-15 12:24:32.3251 TDB [del_T=     69.185129 s]\n",
    " X = 2.764507164403535E-05 Y = 2.305643106867868E-05 Z =-2.280392275599578E-05\n",
    " VX=-1.452631451039335E-04 VY= 1.744508044393150E-04 VZ= 2.807803667368201E-07"
   ]
  },
  {
   "cell_type": "code",
   "execution_count": null,
   "metadata": {},
   "outputs": [],
   "source": [
    "2458895.017041000 = A.D. 2020-Feb-15 12:24:32.3424 TDB [del_T=     69.185129 s]\n",
    " X = 2.764504255720905E-05 Y = 2.305646599986323E-05 Z =-2.280392269977366E-05\n",
    " VX=-1.452633651835234E-04 VY= 1.744506211807041E-04 VZ= 2.807807889159410E-07"
   ]
  },
  {
   "cell_type": "code",
   "execution_count": null,
   "metadata": {},
   "outputs": [],
   "source": [
    "(2.764507164403535E-05 - 2.76444902e-05)*1.5e8, (2.305646599986323E-05-2.30537690e-05)*1.5e8, (-2.280392269977366E-05- -2.28050798e-05)*1.5e8"
   ]
  },
  {
   "cell_type": "code",
   "execution_count": null,
   "metadata": {},
   "outputs": [],
   "source": [
    "(0.4*1.4/384400 )*206265"
   ]
  },
  {
   "cell_type": "code",
   "execution_count": null,
   "metadata": {},
   "outputs": [],
   "source": [
    "\n",
    "2458895.496318000 = A.D. 2020-Feb-15 23:54:41.8752 TDB [del_T=     69.185137 s]\n",
    " X = 2.766814748701722E-05 Y =-1.157852792138350E-05 Z =-3.020367669904454E-05\n",
    " VX= 7.295045605972016E-05 VY= 1.746859269841296E-04 VZ=-1.391190084195478E-07    "
   ]
  },
  {
   "cell_type": "code",
   "execution_count": null,
   "metadata": {},
   "outputs": [],
   "source": [
    "(-2.76658342e-05 - -2.766814748701722E-05)*1.5e8"
   ]
  },
  {
   "cell_type": "code",
   "execution_count": null,
   "metadata": {},
   "outputs": [],
   "source": [
    "obs = []\n",
    "with open('K20C03D_eq_bary.mpc') as file:\n",
    "        line=file.readline()\n",
    "        for line in file:\n",
    "            jd_tdb, r_target, r_obs = get_observation_data(line, geocentric=True)\n",
    "            obs.append((jd_tdb, r_target, r_obs))"
   ]
  },
  {
   "cell_type": "code",
   "execution_count": null,
   "metadata": {},
   "outputs": [],
   "source": [
    "obs"
   ]
  },
  {
   "cell_type": "code",
   "execution_count": null,
   "metadata": {},
   "outputs": [],
   "source": [
    "def find_segment(time_tags, t, tmax):\n",
    "    if t < time_tags[0] or t > tmax:\n",
    "        return -1\n",
    "    elif t==time_tags[0]:\n",
    "        return 0\n",
    "    else:\n",
    "        idx = np.searchsorted(time_tags, t)\n",
    "        return idx-1\n",
    "\n",
    "\n",
    "\n",
    "def trajectory(fits, time_tags, t, tmax):\n",
    "    idx = find_segment(time_tags, t, tmax)\n",
    "    t0, dt, c = fits[idx]\n",
    "    x = 2*(t - t0)/dt\n",
    "    model = ch.chebval(x, c)\n",
    "    return model\n",
    "\n",
    "au_km = 149597870.700 # This is now a definition \n",
    "speed_of_light = 2.99792458e5 * 86400./au_km\n"
   ]
  },
  {
   "cell_type": "code",
   "execution_count": null,
   "metadata": {},
   "outputs": [],
   "source": [
    "# Need to include a geocentric option\n",
    "def generate_observation(fits, time_tags, r_obs, t_obs, niter=5):\n",
    "    lt = 0.0\n",
    "    # probably don't need to look up the segment every time\n",
    "    # probably don't need very high order chebyshev polynomials\n",
    "    # probably already have a guess at lt from previous iterations.\n",
    "    for i in range(niter):\n",
    "        t = t_obs - lt\n",
    "        pos = trajectory(fits, time_tags, t, timesp[-1])\n",
    "        rho = pos-r_obs\n",
    "        delta = np.sqrt(rho[0]*rho[0] + rho[1]*rho[1] + rho[2]*rho[2])\n",
    "        #delta = np.linalg.norm(rho)\n",
    "        rho = rho/delta\n",
    "        lt = delta/speed_of_light\n",
    "    return rho, lt\n"
   ]
  },
  {
   "cell_type": "code",
   "execution_count": null,
   "metadata": {},
   "outputs": [],
   "source": [
    "def residuals(instates, obs, tstart, tend, geocentric=True):\n",
    "    instates = instates.reshape(1, 6)\n",
    "    timesp, statesp, varp, varp_ng, statusp = ephem_forces.production_integration_function_wrapper(tstart, tend, epoch, instates, tstep=2.0, geocentric=geocentric)\n",
    "    time_tags, fits = save_trajectory(timesp, statesp)\n",
    "    resid = []\n",
    "    # don't need to repeatedly open this file to read and format the data\n",
    "    for jd_tdb, r_target, r_obs in obs:\n",
    "        model, lt = generate_observation(fits, time_tags, r_obs, jd_tdb)\n",
    "        dx, dy = get_residuals(r_target, model)\n",
    "        resid.append(dx)\n",
    "        resid.append(dy)\n",
    "        print(\"%.6lf %.5lf %7.3lf %7.3lf\" % (jd_tdb, lt, dx*206265, dy*206265))\n",
    "    return resid\n"
   ]
  },
  {
   "cell_type": "code",
   "execution_count": null,
   "metadata": {},
   "outputs": [],
   "source": [
    "\n",
    "from scipy.optimize import least_squares"
   ]
  },
  {
   "cell_type": "code",
   "execution_count": null,
   "metadata": {},
   "outputs": [],
   "source": [
    "%%prun\n",
    "results = least_squares(residuals, np.array(row), args=(obs, tstart, tend), xtol=1e-12)"
   ]
  },
  {
   "cell_type": "code",
   "execution_count": null,
   "metadata": {},
   "outputs": [],
   "source": [
    "results.x, row"
   ]
  },
  {
   "cell_type": "code",
   "execution_count": null,
   "metadata": {},
   "outputs": [],
   "source": [
    "(results.x - instates[0])*1.5e8"
   ]
  },
  {
   "cell_type": "code",
   "execution_count": null,
   "metadata": {},
   "outputs": [],
   "source": [
    "%%time\n",
    "res0 = np.array(residuals(np.array(row).reshape(1, 6), obs, tstart, tend, geocentric=True))*206265\n",
    "res1 = np.array(residuals(results.x, obs, tstart, tend))*206265"
   ]
  },
  {
   "cell_type": "code",
   "execution_count": null,
   "metadata": {},
   "outputs": [],
   "source": [
    "res0.mean(), res0.std(), res1.mean(), res1.std()"
   ]
  },
  {
   "cell_type": "code",
   "execution_count": null,
   "metadata": {},
   "outputs": [],
   "source": [
    "row, "
   ]
  },
  {
   "cell_type": "code",
   "execution_count": null,
   "metadata": {},
   "outputs": [],
   "source": [
    "instates_res = np.array([results.x.tolist()])\n",
    "\n",
    "n_particles = 1\n",
    "\n",
    "tstart, tstep, tend = 2458694.500000000, 2, 2459232.50\n",
    "\n",
    "epoch = 2458897.500000000\n",
    "\n",
    "timesp, statesp, varp, varp_ng, statusp = ephem_forces.production_integration_function_wrapper(tstart, tend, epoch, instates_res, tstep=2.0, geocentric=1)#, epsilon=1e-8, tstep=20)\n",
    "\n",
    "tstart, tstep, tend = 2458894.500000000, 2, 2458932.50\n",
    "timesf, statesf, varf, varf_ng, statusf = ephem_forces.production_integration_function_wrapper(tstart, tend, epoch, instates_res, tstep=2.0, geocentric=1)#, epsilon=1e-8, tstep=20)\n"
   ]
  },
  {
   "cell_type": "code",
   "execution_count": null,
   "metadata": {},
   "outputs": [],
   "source": [
    "fig, ax = plt.subplots(figsize=(6.5,5))\n",
    "#plt.figure(figsize=(5, 5))\n",
    "ax.plot(statesp[:,:,0], statesp[:,:,1])\n",
    "ax.plot(statesf[:,:,0], statesf[:,:,1])\n",
    "ax.set_xlim(-0.030, 0.005)\n",
    "ax.set_ylim(-0.020, 0.010)\n",
    "ax.set_xlabel('x (AU)')\n",
    "ax.set_ylabel('y (AU)')\n",
    "plt.savefig('2020_CD3.png')\n",
    "\n",
    "plt.tight_layout()\n",
    "plt.show()"
   ]
  },
  {
   "cell_type": "code",
   "execution_count": null,
   "metadata": {},
   "outputs": [],
   "source": [
    "def first(x):\n",
    "    return x[0]\n",
    "\n",
    "def second(x):\n",
    "    return x[1]"
   ]
  },
  {
   "cell_type": "code",
   "execution_count": null,
   "metadata": {},
   "outputs": [],
   "source": [
    "3400*1.0625/3"
   ]
  },
  {
   "cell_type": "code",
   "execution_count": null,
   "metadata": {},
   "outputs": [],
   "source": [
    "0.5*384400/1.5e8"
   ]
  },
  {
   "cell_type": "code",
   "execution_count": null,
   "metadata": {},
   "outputs": [],
   "source": [
    "ts = np.array(list(map(first, obs)))"
   ]
  },
  {
   "cell_type": "code",
   "execution_count": null,
   "metadata": {},
   "outputs": [],
   "source": [
    "fig, ax = plt.subplots(figsize=(6.5,5))\n",
    "\n",
    "\n",
    "ax.scatter(ts-ts[0], res1[0::2], s=4)\n",
    "ax.scatter(ts-ts[0], res1[1::2], s=4)\n",
    "ax.set_xlabel('days')\n",
    "ax.set_ylabel('residual (arcsec)')\n",
    "plt.savefig('residuals.png')\n",
    "plt.tight_layout()\n",
    "plt.show()\n"
   ]
  },
  {
   "cell_type": "code",
   "execution_count": null,
   "metadata": {},
   "outputs": [],
   "source": [
    "results.x"
   ]
  },
  {
   "cell_type": "code",
   "execution_count": null,
   "metadata": {},
   "outputs": [],
   "source": [
    "row"
   ]
  },
  {
   "cell_type": "code",
   "execution_count": null,
   "metadata": {},
   "outputs": [],
   "source": [
    "results.x"
   ]
  },
  {
   "cell_type": "code",
   "execution_count": null,
   "metadata": {},
   "outputs": [],
   "source": [
    "tstart, obs[0], tend, obs[-1]"
   ]
  },
  {
   "cell_type": "code",
   "execution_count": null,
   "metadata": {},
   "outputs": [],
   "source": [
    "results.x"
   ]
  },
  {
   "cell_type": "code",
   "execution_count": null,
   "metadata": {},
   "outputs": [],
   "source": [
    "_= plt.hist(res0, bins=30)\n",
    "_= plt.hist(res1, bins=30)\n",
    "plt.yscale('log')"
   ]
  },
  {
   "cell_type": "code",
   "execution_count": null,
   "metadata": {},
   "outputs": [],
   "source": [
    "results.x - np.array(row)"
   ]
  },
  {
   "cell_type": "code",
   "execution_count": null,
   "metadata": {},
   "outputs": [],
   "source": [
    "results"
   ]
  },
  {
   "cell_type": "code",
   "execution_count": null,
   "metadata": {},
   "outputs": [],
   "source": [
    "\n",
    "instates = np.array([row])\n",
    "timesp, statesp, varp, varp_ng, statusp = ephem_forces.production_integration_function_wrapper(tstart, tend, epoch, instates)\n",
    "\n",
    "time_tags, fits = save_trajectory(timesp, statesp)"
   ]
  },
  {
   "cell_type": "code",
   "execution_count": null,
   "metadata": {},
   "outputs": [],
   "source": []
  },
  {
   "cell_type": "code",
   "execution_count": null,
   "metadata": {},
   "outputs": [],
   "source": [
    "%%time\n",
    "diffs = []\n",
    "for i, t in enumerate(timesp):\n",
    "    diffs.append(statesp[i][0][0:3]-trajectory(fits, time_tags, t, timesp[-1]))\n",
    "\n",
    "diffs = np.array(diffs)"
   ]
  },
  {
   "cell_type": "code",
   "execution_count": null,
   "metadata": {},
   "outputs": [],
   "source": [
    "timesp[-1]"
   ]
  },
  {
   "cell_type": "code",
   "execution_count": null,
   "metadata": {},
   "outputs": [],
   "source": [
    "x,y,z = trajectory(fits, time_tags, 2467000.5, timesp[-1])"
   ]
  },
  {
   "cell_type": "code",
   "execution_count": null,
   "metadata": {},
   "outputs": [],
   "source": [
    " test = np.array([3.513219995999942E+00, -6.229832838087752E-02, -1.608033362738477E-01])"
   ]
  },
  {
   "cell_type": "code",
   "execution_count": null,
   "metadata": {},
   "outputs": [],
   "source": [
    "(test - trajectory(fits, time_tags, 2467000.5, timesp[-1]))*1.5e11"
   ]
  },
  {
   "cell_type": "markdown",
   "metadata": {},
   "source": [
    "The interpolation errors look to be substantially less than 1 m, which is certainly good.  But I'm not quite sure why it's so large."
   ]
  },
  {
   "cell_type": "code",
   "execution_count": null,
   "metadata": {},
   "outputs": [],
   "source": [
    "plt.plot(timesp-timesp[0], diffs[:,0]*1.5e11)"
   ]
  },
  {
   "cell_type": "markdown",
   "metadata": {},
   "source": [
    "A next step will be to iteratively generate a light-time corrected RA/Dec observation from a particular observatory at a particular observing time.\n",
    "\n",
    "F51 at JD 2467000.5 TDB."
   ]
  },
  {
   "cell_type": "code",
   "execution_count": null,
   "metadata": {},
   "outputs": [],
   "source": []
  },
  {
   "cell_type": "code",
   "execution_count": null,
   "metadata": {},
   "outputs": [],
   "source": [
    "F51 = np.array([-8.162323545253964E-01, -5.297985179472369E-01, -2.298084817347363E-01])\n",
    "F51 = np.array([-9.116190007936418E-01, 3.719152151402167E-01, 1.614743792421127E-01])\n"
   ]
  },
  {
   "cell_type": "code",
   "execution_count": null,
   "metadata": {},
   "outputs": [],
   "source": [
    "t_obs = 2460000.5\n"
   ]
  },
  {
   "cell_type": "code",
   "execution_count": null,
   "metadata": {},
   "outputs": [],
   "source": [
    "generate_observation(fits, time_tags, F51, t_obs)"
   ]
  },
  {
   "cell_type": "code",
   "execution_count": null,
   "metadata": {},
   "outputs": [],
   "source": [
    "x, y, z"
   ]
  },
  {
   "cell_type": "code",
   "execution_count": null,
   "metadata": {},
   "outputs": [],
   "source": [
    "x, y, z = (pos-F51)/delta"
   ]
  },
  {
   "cell_type": "code",
   "execution_count": null,
   "metadata": {},
   "outputs": [],
   "source": [
    "((180./np.pi*np.arctan2(y, x)) + 360 - 204.262489518)*3600"
   ]
  },
  {
   "cell_type": "code",
   "execution_count": null,
   "metadata": {},
   "outputs": [],
   "source": [
    "x, y, z"
   ]
  },
  {
   "cell_type": "code",
   "execution_count": null,
   "metadata": {},
   "outputs": [],
   "source": [
    "\n",
    "(180./np.pi*np.arcsin(z) - -6.836971568)*3600"
   ]
  },
  {
   "cell_type": "code",
   "execution_count": null,
   "metadata": {},
   "outputs": [],
   "source": [
    "00 24 38.49 +00 54 24.4\n",
    "13 37 03.00 -06 50 13.1\n",
    "204.262489518  -6.836971568\n"
   ]
  },
  {
   "cell_type": "code",
   "execution_count": null,
   "metadata": {},
   "outputs": [],
   "source": [
    "delta_t = 69.185544/86400.\n",
    "delta_t = 69.185284/86400.\n",
    "t_utc = t_obs-delta_t\n",
    "t_utc"
   ]
  },
  {
   "cell_type": "code",
   "execution_count": null,
   "metadata": {},
   "outputs": [],
   "source": [
    "i=0\n",
    "sat_dict = defaultdict(list)\n",
    "with open('3le_new.txt') as f:\n",
    "    lines = f.readlines()\n",
    "    first = lines[0::3]\n",
    "    second = lines[1::3]\n",
    "    third = lines[2::3]\n",
    "    names = list(map(lambda x: x[2:].rstrip(), first))\n",
    "    mm = list(map(lambda x: float(x[53:64]), third))"
   ]
  },
  {
   "cell_type": "code",
   "execution_count": null,
   "metadata": {},
   "outputs": [],
   "source": [
    "_=plt.hist(mm, bins=21, cumulative=False, range=(0,1.05))\n",
    "plt.yscale('log', nonposy='clip')\n",
    "plt.xlabel('rev/day')\n",
    "plt.ylabel('N')\n",
    "plt.savefig('rev_hist_v4.png')"
   ]
  },
  {
   "cell_type": "code",
   "execution_count": null,
   "metadata": {},
   "outputs": [],
   "source": [
    "sat_dict = {k:v for k,v in zip(names, mm)}"
   ]
  },
  {
   "cell_type": "code",
   "execution_count": null,
   "metadata": {},
   "outputs": [],
   "source": [
    "def secnd(x):\n",
    "    return x[1]"
   ]
  },
  {
   "cell_type": "code",
   "execution_count": null,
   "metadata": {},
   "outputs": [],
   "source": [
    "with open('names_mm.txt', 'w') as f:\n",
    "    for k,v in sorted(zip(names, mm), key=secnd):\n",
    "        f.write('%15f %s\\n'% (v, k))"
   ]
  },
  {
   "cell_type": "markdown",
   "metadata": {},
   "source": [
    "### Challenging Examples"
   ]
  },
  {
   "cell_type": "markdown",
   "metadata": {},
   "source": [
    "Now let's try some more challenging cases.  First Apophis, an NEO that makes repeated close approaches to Earth.  It will make an approach on 2021 Mar 06 1:06 UT.  This approach will not be particularly close.  However, the 2029 Apr 13 approach will be extremely close.\n",
    "\n",
    "The initial conditions below are for 2020 Aug 01, before the first approach.  We will integrate through the first approach and to just before the closer second approach."
   ]
  },
  {
   "cell_type": "code",
   "execution_count": null,
   "metadata": {},
   "outputs": [],
   "source": [
    "importlib.reload(ephem_forces)"
   ]
  },
  {
   "cell_type": "code",
   "execution_count": null,
   "metadata": {},
   "outputs": [],
   "source": [
    "# DE441\n",
    "#2459062.500000000 = A.D. 2020-Aug-01 00:00:00.0000 TDB [del_T=     69.183254 s]\n",
    "# X =-5.147481787179418E-03 Y =-7.554300268214853E-01 Z =-2.803431979691921E-01\n",
    "# VX= 1.994372371206607E-02 VY= 2.695051098855493E-03 VZ= 1.506829667479476E-03\n",
    "row = [-5.147481787179418E-03, -7.554300268214853E-01, -2.803431979691921E-01,\n",
    "        1.994372371206607E-02, 2.695051098855493E-03, 1.506829667479476E-03]\n",
    "\n",
    "# DE431\n",
    "#row = [-5.145897476309183E-03, -7.554295792725090E-01, -2.803430954241811E-01, 1.994372392258838E-02, 2.695069501106252E-03, 1.506836811826654E-03]\n",
    "    \n",
    "tstart, tstep, trange = 2459062.5, 1.0, 3150\n",
    "tend = tstart + trange\n",
    "geocentric = 0\n",
    "n_particles = 1\n",
    "scale = 1e-8\n",
    "\n",
    "instates = np.array(row)\n",
    "\n",
    "times, states, var, var_ng, status = ephem_forces.integration_function(tstart, tend, tstep, geocentric, \n",
    "                                                               n_particles, instates, n_var, invar_part, invar)#, epsilon=1e-8)\n"
   ]
  },
  {
   "cell_type": "code",
   "execution_count": null,
   "metadata": {},
   "outputs": [],
   "source": [
    "times[-1], states[-1][0]\n"
   ]
  },
  {
   "cell_type": "code",
   "execution_count": null,
   "metadata": {},
   "outputs": [],
   "source": [
    "2462212.500000000 = A.D. 2029-Mar-17 00:00:00.0000 TDB [del_T=     69.185579 s]\n",
    " X =-1.065242948790426E+00 Y = 1.336576685926274E-02 Z =-2.189407072944644E-02\n",
    " VX= 1.615083976122256E-03 VY=-1.426641205899967E-02 VZ=-5.259456864467629E-03"
   ]
  },
  {
   "cell_type": "code",
   "execution_count": null,
   "metadata": {},
   "outputs": [],
   "source": [
    "# No non-gravs\n",
    "apophis_before = np.array([\n",
    "-1.065242948790426E+00, 1.336576685926274E-02, -2.189407072944644E-02,\n",
    " 1.615083976122256E-03, -1.426641205899967E-02, -5.259456864467629E-03])\n",
    "\n",
    "\n",
    "# Including non-gravs\n",
    "# dt_min = 1e-3\n",
    "# epsilon = 1e-8\n",
    "#apophis_before = np.array([\n",
    "#    -1.061749621090919E+00, -1.342851936299780E-02, -3.176051171408323E-02,\n",
    "#     2.104893542927364E-03, -1.426673477234808E-02, -5.247194855985309E-03])\n",
    "\n",
    "\n"
   ]
  },
  {
   "cell_type": "code",
   "execution_count": null,
   "metadata": {},
   "outputs": [],
   "source": [
    "(states[-1][0]-apophis_before)*1.5e8"
   ]
  },
  {
   "cell_type": "markdown",
   "metadata": {},
   "source": [
    "The largest discrepancy is ~42 km just before the 2029 close approach.\n",
    "\n",
    "Now I will include the non-gravitational terms, using the A2 value provided by JPL Horizons (A1 and A3 = 0.0).\n",
    "\n",
    "At the moment, the non-grav values are hard-coded.  The code needs to be recompiled and the library reloaded."
   ]
  },
  {
   "cell_type": "code",
   "execution_count": null,
   "metadata": {},
   "outputs": [],
   "source": [
    "importlib.reload(ephem_forces)"
   ]
  },
  {
   "cell_type": "code",
   "execution_count": null,
   "metadata": {},
   "outputs": [],
   "source": [
    "# DE441\n",
    "#2459062.500000000 = A.D. 2020-Aug-01 00:00:00.0000 TDB [del_T=     69.183254 s]\n",
    "# X =-5.147481787179418E-03 Y =-7.554300268214853E-01 Z =-2.803431979691921E-01\n",
    "# VX= 1.994372371206607E-02 VY= 2.695051098855493E-03 VZ= 1.506829667479476E-03\n",
    "row = [-5.147481787179418E-03, -7.554300268214853E-01, -2.803431979691921E-01,\n",
    "        1.994372371206607E-02, 2.695051098855493E-03, 1.506829667479476E-03]\n",
    "\n",
    "# DE431\n",
    "#row = [-5.145897476309183E-03, -7.554295792725090E-01, -2.803430954241811E-01, 1.994372392258838E-02, 2.695069501106252E-03, 1.506836811826654E-03]\n",
    "    \n",
    "tstart, tstep, trange = 2459062.5, 1.0, 3150\n",
    "tend = tstart + trange\n",
    "geocentric = 0\n",
    "n_particles = 1\n",
    "scale = 1e-8\n",
    "\n",
    "instates = np.array(row)\n",
    "\n",
    "times, states, var, var_ng, status = ephem_forces.integration_function(tstart, tend, tstep, geocentric, n_particles, instates, n_var, invar_part, invar)#, epsilon=1e-8)\n",
    "\n"
   ]
  },
  {
   "cell_type": "code",
   "execution_count": null,
   "metadata": {},
   "outputs": [],
   "source": [
    "times[-1]"
   ]
  },
  {
   "cell_type": "code",
   "execution_count": null,
   "metadata": {},
   "outputs": [],
   "source": [
    "apophis_after = np.array([\n",
    "-6.343441804789555E-01, -6.456269834869176E-01, -2.636333964165063E-01,\n",
    " 1.546139923046551E-02, -1.029411916646655E-02, -3.777044399870865E-03])"
   ]
  },
  {
   "cell_type": "code",
   "execution_count": null,
   "metadata": {},
   "outputs": [],
   "source": [
    "states[-1][0], (states[-1][0]-apophis_before)*1.5e8"
   ]
  },
  {
   "cell_type": "code",
   "execution_count": null,
   "metadata": {},
   "outputs": [],
   "source": [
    "states[-1][0], (states[-1][0]-apophis_after)*1.5e8"
   ]
  },
  {
   "cell_type": "markdown",
   "metadata": {},
   "source": [
    "Now the largest discrepancy is ~1 km.  How carefully the very close approaches are handled matters, as expected."
   ]
  },
  {
   "cell_type": "markdown",
   "metadata": {},
   "source": [
    "Let's try geocentric integrations."
   ]
  },
  {
   "cell_type": "code",
   "execution_count": null,
   "metadata": {},
   "outputs": [],
   "source": [
    "row = [6.634500992578179E-02, 2.122458699845356E-03, -3.507415858744104E-04,\n",
    "     -1.060257698567525E-03, 6.078332955992950E-04, 2.240712392485767E-04]"
   ]
  },
  {
   "cell_type": "code",
   "execution_count": null,
   "metadata": {},
   "outputs": [],
   "source": [
    "tstart, tstep, trange = 2459062.5, -1.0, -400\n",
    "geocentric = 1\n",
    "n_particles = 1\n",
    "scale = 1e-8\n",
    "\n",
    "instates = np.array(row)\n",
    "timesb, statesb, n_out, n_particles = ephem_forces.integration_function(tstart, tstep, trange, geocentric, n_particles, instates)  \n"
   ]
  },
  {
   "cell_type": "code",
   "execution_count": null,
   "metadata": {},
   "outputs": [],
   "source": [
    "statesb"
   ]
  },
  {
   "cell_type": "code",
   "execution_count": null,
   "metadata": {},
   "outputs": [],
   "source": [
    "plt.plot(statesb[:,0,0], statesb[:,0,1])"
   ]
  },
  {
   "cell_type": "code",
   "execution_count": null,
   "metadata": {},
   "outputs": [],
   "source": [
    "del statesb"
   ]
  },
  {
   "cell_type": "code",
   "execution_count": null,
   "metadata": {},
   "outputs": [],
   "source": [
    "tstart, tstep, trange = 2459062.5, 1.0, 400\n",
    "geocentric = 1\n",
    "n_particles = 1\n",
    "scale = 1e-8\n",
    "instates = np.array(row)\n",
    "\n",
    "timesf, statesf, n_out, n_particles = ephem_forces.integration_function(tstart, tstep, trange, geocentric, n_particles, instates)"
   ]
  },
  {
   "cell_type": "code",
   "execution_count": null,
   "metadata": {},
   "outputs": [],
   "source": [
    "statesf"
   ]
  },
  {
   "cell_type": "code",
   "execution_count": null,
   "metadata": {},
   "outputs": [],
   "source": [
    "plt.plot(statesf[:,0,0], statesf[:,0,1])\n",
    "plt.plot(statesb[:,0,0], statesb[:,0,1])"
   ]
  },
  {
   "cell_type": "code",
   "execution_count": null,
   "metadata": {},
   "outputs": [],
   "source": [
    "tstart, tstep, trange = timesb[-1], 1.0, 400\n",
    "instatesb = statesb[-1][0].copy()\n",
    "timesf, statesf, n_out, n_particles = ephem_forces.integration_function(tstart, tstep, trange, geocentric, n_particles, instatesb)  "
   ]
  },
  {
   "cell_type": "code",
   "execution_count": null,
   "metadata": {},
   "outputs": [],
   "source": [
    "plt.plot(statesb[:,0,0], statesb[:,0,1])\n",
    "\n",
    "plt.plot(statesf[:,0,0], statesf[:,0,1])"
   ]
  },
  {
   "cell_type": "code",
   "execution_count": null,
   "metadata": {},
   "outputs": [],
   "source": [
    "statesb"
   ]
  },
  {
   "cell_type": "code",
   "execution_count": null,
   "metadata": {},
   "outputs": [],
   "source": [
    "len(states)"
   ]
  },
  {
   "cell_type": "code",
   "execution_count": null,
   "metadata": {},
   "outputs": [],
   "source": [
    "\n",
    "2462263.697021989 = A.D. 2029-May-07 04:43:42.6999 TDB \n",
    " X = 7.771821449378258E-02 Y = 1.444568330466675E-02 Z = 2.318152988506329E-02\n",
    " VX= 3.531021355764523E-03 VY= 8.992784904633009E-04 VZ= 1.064745760510192E-03\n",
    "\n"
   ]
  },
  {
   "cell_type": "code",
   "execution_count": null,
   "metadata": {},
   "outputs": [],
   "source": [
    "apophis_geo_after=np.array([\n",
    "    7.771821449378258E-02, 1.444568330466675E-02, 2.318152988506329E-02, \n",
    "    3.531021355764523E-03, 8.992784904633009E-04, 1.064745760510192E-03])\n"
   ]
  },
  {
   "cell_type": "code",
   "execution_count": null,
   "metadata": {},
   "outputs": [],
   "source": [
    "(states[-1][0]-apophis_geo_after)*1.5e8"
   ]
  },
  {
   "cell_type": "markdown",
   "metadata": {},
   "source": [
    "This is worse.  I wonder if this is due to the interpolated acceleration of the Earth."
   ]
  },
  {
   "cell_type": "code",
   "execution_count": null,
   "metadata": {},
   "outputs": [],
   "source": [
    "def plot_results(results):\n",
    "    t, p0, p1, p2 = results\n",
    "    d = np.linalg.norm(p0, axis=1)\n",
    "    z = np.polyfit(t, d, deg=2)\n",
    "    f = np.poly1d(z)\n",
    "    plt.plot(t, d-f(t), label='x')\n",
    "    #plt.plot(t, d, label='x')\n",
    "    d = np.linalg.norm(p1, axis=1)\n",
    "    z = np.polyfit(t, d, deg=2)\n",
    "    f = np.poly1d(z)\n",
    "    plt.plot(t, d-f(t), label='y')\n",
    "    #plt.plot(t, d, label='y')\n",
    "    d = np.linalg.norm(p2, axis=1)\n",
    "    z = np.polyfit(t, d, deg=2)\n",
    "    f = np.poly1d(z)\n",
    "    plt.plot(t, d-f(t), label='z')\n",
    "    #plt.plot(t, d, label='z')\n",
    "    plt.legend()"
   ]
  },
  {
   "cell_type": "code",
   "execution_count": null,
   "metadata": {},
   "outputs": [],
   "source": [
    "prec_x = np.array(sorted([(k, np.linalg.norm(p0[-1]), np.linalg.norm(p1[-1]), np.linalg.norm(p2[-1])) for k, (t, p0, p1, p2) in results_dict.items()]))\n",
    "\n"
   ]
  },
  {
   "cell_type": "code",
   "execution_count": null,
   "metadata": {},
   "outputs": [],
   "source": [
    "plt.plot(prec_x[:,0], prec_x[:, 1])\n",
    "plt.plot(prec_x[:,0], prec_x[:, 2])\n",
    "plt.plot(prec_x[:,0], prec_x[:, 3])\n",
    "plt.yscale('log')\n",
    "plt.xscale ('log')"
   ]
  },
  {
   "cell_type": "code",
   "execution_count": null,
   "metadata": {},
   "outputs": [],
   "source": [
    "plot_results(results_dict[1e-6])"
   ]
  },
  {
   "cell_type": "code",
   "execution_count": null,
   "metadata": {},
   "outputs": [],
   "source": [
    "np.logspace(-8, -2, num=10)"
   ]
  },
  {
   "cell_type": "code",
   "execution_count": null,
   "metadata": {},
   "outputs": [],
   "source": [
    "output.stdout"
   ]
  },
  {
   "cell_type": "code",
   "execution_count": null,
   "metadata": {},
   "outputs": [],
   "source": [
    "from ctypes import *"
   ]
  },
  {
   "cell_type": "code",
   "execution_count": null,
   "metadata": {},
   "outputs": [],
   "source": [
    "libc = CDLL(\"libc.dylib\")"
   ]
  },
  {
   "cell_type": "code",
   "execution_count": null,
   "metadata": {},
   "outputs": [],
   "source": [
    "print(libc.time(None))  "
   ]
  },
  {
   "cell_type": "code",
   "execution_count": null,
   "metadata": {},
   "outputs": [],
   "source": [
    "c_int()"
   ]
  },
  {
   "cell_type": "code",
   "execution_count": null,
   "metadata": {},
   "outputs": [],
   "source": [
    "i = c_int(42)"
   ]
  },
  {
   "cell_type": "code",
   "execution_count": null,
   "metadata": {},
   "outputs": [],
   "source": [
    "print(i)"
   ]
  },
  {
   "cell_type": "code",
   "execution_count": null,
   "metadata": {},
   "outputs": [],
   "source": [
    "print(i.value)"
   ]
  },
  {
   "cell_type": "code",
   "execution_count": null,
   "metadata": {},
   "outputs": [],
   "source": [
    "i.value=-99\n",
    "print(i.value)"
   ]
  },
  {
   "cell_type": "code",
   "execution_count": null,
   "metadata": {},
   "outputs": [],
   "source": [
    "s = \"Hello, World\"\n",
    "c_s = c_wchar_p(s)\n",
    "print(c_s)"
   ]
  },
  {
   "cell_type": "code",
   "execution_count": null,
   "metadata": {},
   "outputs": [],
   "source": [
    "c_wchar_p(139966785747344)\n",
    "print(c_s.value)"
   ]
  },
  {
   "cell_type": "code",
   "execution_count": null,
   "metadata": {},
   "outputs": [],
   "source": [
    "print(c_s)"
   ]
  },
  {
   "cell_type": "code",
   "execution_count": null,
   "metadata": {},
   "outputs": [],
   "source": [
    "c_s.value = \"Hi, there\"\n",
    "print(c_s)              # the memory location has changed"
   ]
  },
  {
   "cell_type": "code",
   "execution_count": null,
   "metadata": {},
   "outputs": [],
   "source": [
    "c_wchar_p(139966783348904)\n",
    ">>> print(c_s.value)"
   ]
  },
  {
   "cell_type": "code",
   "execution_count": null,
   "metadata": {},
   "outputs": [],
   "source": [
    "print(s)                # first object is unchanged\n"
   ]
  },
  {
   "cell_type": "code",
   "execution_count": null,
   "metadata": {},
   "outputs": [],
   "source": [
    "p = create_string_buffer(3)            # create a 3 byte buffer, initialized to NUL bytes\n",
    "print(sizeof(p), repr(p.raw))"
   ]
  },
  {
   "cell_type": "code",
   "execution_count": null,
   "metadata": {},
   "outputs": [],
   "source": [
    "p = create_string_buffer(b\"Hello\")     # create a buffer containing a NUL terminated string\n",
    "print(sizeof(p), repr(p.raw))"
   ]
  },
  {
   "cell_type": "code",
   "execution_count": null,
   "metadata": {},
   "outputs": [],
   "source": [
    "print(repr(p.value))"
   ]
  },
  {
   "cell_type": "code",
   "execution_count": null,
   "metadata": {},
   "outputs": [],
   "source": [
    "p = create_string_buffer(b\"Hello\", 10) # create a 10 byte buffer\n",
    "print(sizeof(p), repr(p.raw))"
   ]
  },
  {
   "cell_type": "code",
   "execution_count": null,
   "metadata": {},
   "outputs": [],
   "source": [
    "p.value = b\"Hi\"\n",
    "print(sizeof(p), repr(p.raw))"
   ]
  },
  {
   "cell_type": "code",
   "execution_count": null,
   "metadata": {},
   "outputs": [],
   "source": [
    "printf = libc.printf\n",
    "printf(b\"Hello, %s\\n\", b\"World!\")"
   ]
  },
  {
   "cell_type": "code",
   "execution_count": null,
   "metadata": {},
   "outputs": [],
   "source": [
    "printf(b\"Hello, %S\\n\", \"World!\")"
   ]
  },
  {
   "cell_type": "code",
   "execution_count": null,
   "metadata": {},
   "outputs": [],
   "source": [
    "Hello, World!\n",
    "14\n",
    ">>> printf(b\"Hello, %S\\n\", \"World!\")\n",
    "Hello, World!\n",
    "14\n",
    ">>> printf(b\"%d bottles of beer\\n\", 42)\n",
    "42 bottles of beer\n",
    "19\n",
    ">>> printf(b\"%f bottles of beer\\n\", 42.5)\n",
    "Traceback (most recent call last):\n",
    "  File \"<stdin>\", line 1, in <module>\n",
    "ArgumentError: argument 2: exceptions.TypeError: Don't know how to convert parameter 2\n",
    ">>>"
   ]
  },
  {
   "cell_type": "code",
   "execution_count": null,
   "metadata": {},
   "outputs": [],
   "source": [
    "import datetime\n",
    "import random\n",
    "import matplotlib.pyplot as plt\n",
    "\n",
    "# make up some data\n",
    "x = [datetime.datetime.now() + datetime.timedelta(hours=i) for i in range(12)]\n",
    "y = [i+random.gauss(0,1) for i,_ in enumerate(x)]\n",
    "\n",
    "# plot\n",
    "plt.bar(x,y)\n",
    "# beautify the x-labels\n",
    "plt.gcf().autofmt_xdate()\n",
    "\n",
    "plt.show()"
   ]
  },
  {
   "cell_type": "code",
   "execution_count": null,
   "metadata": {},
   "outputs": [],
   "source": [
    "df = pd.read_csv(\"/Users/mholman/Dropbox/misc/dates.csv\")"
   ]
  },
  {
   "cell_type": "code",
   "execution_count": null,
   "metadata": {},
   "outputs": [],
   "source": [
    "df2 = pd.read_csv(\"/Users/mholman/Dropbox/misc/funding.csv\")"
   ]
  },
  {
   "cell_type": "code",
   "execution_count": null,
   "metadata": {},
   "outputs": [],
   "source": [
    "df['d'] = df.date.apply(lambda x: pd.to_datetime(x))\n",
    "df2['d'] = df2.date.apply(lambda x: pd.to_datetime(x))"
   ]
  },
  {
   "cell_type": "code",
   "execution_count": null,
   "metadata": {},
   "outputs": [],
   "source": [
    "cumulative = np.cumsum(df.delta)"
   ]
  },
  {
   "cell_type": "code",
   "execution_count": null,
   "metadata": {},
   "outputs": [],
   "source": [
    "labor=np.cumsum((cumulative+6)*(df.d-df.d.shift())/(365.25*np.timedelta64(1,'D')))"
   ]
  },
  {
   "cell_type": "code",
   "execution_count": null,
   "metadata": {
    "scrolled": true
   },
   "outputs": [],
   "source": [
    "\n",
    "import matplotlib.dates as mdates\n",
    "fig, ax = plt.subplots(figsize=(10, 6))\n",
    "ax.scatter(df.d, cumulative+6)\n",
    "\n",
    "#ax2 = ax.twinx()\n",
    "\n",
    "linestyle = (0, (1, 4))\n",
    "\n",
    "ax.xaxis.set_major_formatter(mdates.DateFormatter('%Y'))\n",
    "#ax2.xaxis.set_major_formatter(mdates.DateFormatter('%Y'))\n",
    "\n",
    "panel = datetime.datetime(2015, 5, 5)\n",
    "ax.axvline(panel, -10, 20, ls=linestyle, color='r')\n",
    "\n",
    "prop = datetime.datetime(2016, 10, 28)\n",
    "ax.axvline(prop, -10, 20, ls=linestyle, color='g')\n",
    "\n",
    "funds = datetime.datetime(2017, 1, 27)\n",
    "ax.axvline(funds, -10, 20, color='g')\n",
    "\n",
    "ma = datetime.datetime(2017, 5, 29)\n",
    "ax.axvline(ma, -10, 20, ls='--', color='black')\n",
    "\n",
    "sk = datetime.datetime(2018, 8, 13)\n",
    "ax.axvline(sk, -10, 20, ls='--', color='black')\n",
    "\n",
    "mug1 = datetime.datetime(2017, 6, 22)\n",
    "ax.axvline(mug1, -10, 20, ls='dotted', color='r')\n",
    "\n",
    "mug2 = datetime.datetime(2017, 12, 18)\n",
    "ax.axvline(mug2, -10, 20, ls='dotted', color='r')\n",
    "\n",
    "mug3 = datetime.datetime(2018, 6, 28)\n",
    "ax.axvline(mug3, -10, 20, ls='dotted', color='r')\n",
    "\n",
    "neocp = datetime.datetime(2018, 11, 1)\n",
    "ax.axvline(neocp, -10, 20, ls='solid', color='blue')\n",
    "\n",
    "mug4 = datetime.datetime(2018, 12, 17)\n",
    "ax.axvline(mug4, -10, 20, ls='dotted', color='r')\n",
    "\n",
    "mug5 = datetime.datetime(2019, 7, 9)\n",
    "ax.axvline(mug5, -10, 20, ls='dotted', color='r')\n",
    "\n",
    "mug6 = datetime.datetime(2019, 12, 10)\n",
    "ax.axvline(mug6, -10, 20, ls='dotted', color='r')\n",
    "\n",
    "mug7 = datetime.datetime(2020, 6, 11)\n",
    "ax.axvline(mug7, -10, 20, ls='dotted', color='r')\n",
    "\n",
    "mug8 = datetime.datetime(2020, 12, 2)\n",
    "ax.axvline(mug8, -10, 20, ls='dotted', color='r')\n",
    "\n",
    "covid = datetime.datetime(2020, 3, 13)\n",
    "ax.axvline(covid, -10, 20, ls='dashdot', color='purple')\n",
    "\n",
    "vms = datetime.datetime(2019, 6, 6)\n",
    "ax.axvline(vms, -10, 20, ls='dashdot', color='purple')\n",
    "\n",
    "d_start = datetime.datetime(2018, 10, 1)\n",
    "d_end = datetime.datetime(2019, 2, 10)\n",
    "#ax.axhline(y=3, xmin=0.62, xmax=0.68, color='black')\n",
    "\n",
    "\n",
    "dates = datetime.datetime(2016, 11, 1), datetime.datetime(2017, 11, 1), datetime.datetime(2018, 11, 1), datetime.datetime(2019, 11, 1), datetime.datetime(2020, 11, 1)\n",
    "levels = 7, 7, 10, 11, 11\n",
    "#ax.plot(dates, levels, color='gray')\n",
    "\n",
    "ax.set_xlabel('Date')\n",
    "ax.set_ylabel('MPC FTEs')\n",
    "\n",
    "\n",
    "#ax2.set_ylabel('Total Funding ($M)')\n",
    "\n",
    "funding = df2['total_funding']\n",
    "d = df2['d']\n",
    "\n",
    "linestyle = (0, (1, 4))\n",
    "\n",
    "#ax2.xaxis_date() \n",
    "#ax2.xaxis.set_major_formatter(mdates.DateFormatter('%Y'))\n",
    "#ax2.plot(d, funding/1e6)\n",
    "\n",
    "#ax2.plot(df.d, labor)\n",
    "\n",
    "plt.savefig('/Users/mholman/Dropbox/misc/FTEs.png')"
   ]
  },
  {
   "cell_type": "code",
   "execution_count": null,
   "metadata": {},
   "outputs": [],
   "source": [
    "\n",
    "import matplotlib.dates as mdates\n",
    "fig, ax = plt.subplots(figsize=(10, 6))\n",
    "#ax.scatter(df.d, cumulative+6)\n",
    "\n",
    "ax2 = ax.twinx()\n",
    "\n",
    "linestyle = (0, (1, 4))\n",
    "\n",
    "ax.xaxis.set_major_formatter(mdates.DateFormatter('%Y'))\n",
    "ax2.xaxis.set_major_formatter(mdates.DateFormatter('%Y'))\n",
    "\n",
    "panel = datetime.datetime(2015, 5, 5)\n",
    "ax.axvline(panel, -10, 20, ls=linestyle, color='r')\n",
    "\n",
    "prop = datetime.datetime(2016, 10, 28)\n",
    "ax.axvline(prop, -10, 20, ls=linestyle, color='g')\n",
    "\n",
    "funds = datetime.datetime(2017, 1, 27)\n",
    "ax.axvline(funds, -10, 20, color='g')\n",
    "\n",
    "ma = datetime.datetime(2017, 5, 29)\n",
    "#ax.axvline(ma, -10, 20, ls='--', color='black')\n",
    "\n",
    "sk = datetime.datetime(2018, 8, 13)\n",
    "#ax.axvline(sk, -10, 20, ls='--', color='black')\n",
    "\n",
    "mug1 = datetime.datetime(2017, 6, 22)\n",
    "ax.axvline(mug1, -10, 20, ls='dotted', color='r')\n",
    "\n",
    "mug2 = datetime.datetime(2017, 12, 18)\n",
    "ax.axvline(mug2, -10, 20, ls='dotted', color='r')\n",
    "\n",
    "mug3 = datetime.datetime(2018, 6, 28)\n",
    "ax.axvline(mug3, -10, 20, ls='dotted', color='r')\n",
    "\n",
    "neocp = datetime.datetime(2018, 11, 1)\n",
    "#ax.axvline(neocp, -10, 20, ls='solid', color='blue')\n",
    "\n",
    "mug4 = datetime.datetime(2018, 12, 17)\n",
    "ax.axvline(mug4, -10, 20, ls='dotted', color='r')\n",
    "\n",
    "mug5 = datetime.datetime(2019, 7, 9)\n",
    "ax.axvline(mug5, -10, 20, ls='dotted', color='r')\n",
    "\n",
    "mug6 = datetime.datetime(2019, 12, 10)\n",
    "ax.axvline(mug6, -10, 20, ls='dotted', color='r')\n",
    "\n",
    "mug7 = datetime.datetime(2020, 6, 11)\n",
    "ax.axvline(mug7, -10, 20, ls='dotted', color='r')\n",
    "\n",
    "mug8 = datetime.datetime(2020, 12, 2)\n",
    "ax.axvline(mug8, -10, 20, ls='dotted', color='r')\n",
    "\n",
    "covid = datetime.datetime(2020, 3, 13)\n",
    "#ax.axvline(covid, -10, 20, ls='dashdot', color='purple')\n",
    "\n",
    "vms = datetime.datetime(2019, 6, 6)\n",
    "#ax.axvline(vms, -10, 20, ls='dashdot', color='purple')\n",
    "\n",
    "d_start = datetime.datetime(2018, 10, 1)\n",
    "d_end = datetime.datetime(2019, 2, 10)\n",
    "#ax.axhline(y=3, xmin=0.62, xmax=0.68, color='black')\n",
    "\n",
    "\n",
    "dates = datetime.datetime(2016, 11, 1), datetime.datetime(2017, 11, 1), datetime.datetime(2018, 11, 1), datetime.datetime(2019, 11, 1), datetime.datetime(2020, 11, 1)\n",
    "levels = 7, 7, 10, 11, 11\n",
    "#ax.plot(dates, levels, color='gray')\n",
    "\n",
    "ax.set_xlabel('Date')\n",
    "ax.set_ylabel('MPC FTE-years')\n",
    "\n",
    "\n",
    "ax2.set_ylabel('Funding ($M)')\n",
    "\n",
    "funding = df2['total_funding']\n",
    "coh_me = df2['coh_me']\n",
    "expected = df2['expected']\n",
    "d = df2['d']\n",
    "\n",
    "linestyle = (0, (1, 4))\n",
    "\n",
    "ax2.xaxis_date() \n",
    "ax2.xaxis.set_major_formatter(mdates.DateFormatter('%Y'))\n",
    "ax2.plot(d, funding/1e6)\n",
    "ax2.plot(d, coh_me/1e6, 'red')\n",
    "ax2.plot(d, expected/1e6)\n",
    "\n",
    "ax.plot(df.d, labor-9.7, 'black')\n",
    "ax.set_ylim(-0.1, 40)\n",
    "ax2.set_ylim(-0.1, 8)\n",
    "\n",
    "\n",
    "plt.savefig('/Users/mholman/Dropbox/misc/funding.pdf')"
   ]
  },
  {
   "cell_type": "code",
   "execution_count": null,
   "metadata": {},
   "outputs": [],
   "source": [
    "d_start"
   ]
  },
  {
   "cell_type": "code",
   "execution_count": null,
   "metadata": {},
   "outputs": [],
   "source": [
    "plt.bar(df.d, cumulative+6)"
   ]
  },
  {
   "cell_type": "code",
   "execution_count": null,
   "metadata": {},
   "outputs": [],
   "source": [
    "cumulative+6, df.d"
   ]
  },
  {
   "cell_type": "code",
   "execution_count": null,
   "metadata": {},
   "outputs": [],
   "source": [
    "cumulative+6"
   ]
  },
  {
   "cell_type": "code",
   "execution_count": null,
   "metadata": {},
   "outputs": [],
   "source": [
    "df.d"
   ]
  },
  {
   "cell_type": "code",
   "execution_count": null,
   "metadata": {},
   "outputs": [],
   "source": [
    "df.diff"
   ]
  },
  {
   "cell_type": "code",
   "execution_count": null,
   "metadata": {},
   "outputs": [],
   "source": [
    "import spicey as sp"
   ]
  },
  {
   "cell_type": "code",
   "execution_count": null,
   "metadata": {},
   "outputs": [],
   "source": [
    "import wis"
   ]
  },
  {
   "cell_type": "code",
   "execution_count": null,
   "metadata": {},
   "outputs": [],
   "source": [
    "(440e6-45.9e6)/(2*1.5e6*30)"
   ]
  }
 ],
 "metadata": {
  "anaconda-cloud": {},
  "kernelspec": {
   "display_name": "Python 3",
   "language": "python",
   "name": "python3"
  },
  "language_info": {
   "codemirror_mode": {
    "name": "ipython",
    "version": 3
   },
   "file_extension": ".py",
   "mimetype": "text/x-python",
   "name": "python",
   "nbconvert_exporter": "python",
   "pygments_lexer": "ipython3",
   "version": "3.8.5"
  }
 },
 "nbformat": 4,
 "nbformat_minor": 1
}
